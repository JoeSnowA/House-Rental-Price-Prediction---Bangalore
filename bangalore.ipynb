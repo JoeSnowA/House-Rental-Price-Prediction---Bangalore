{
 "cells": [
  {
   "cell_type": "markdown",
   "id": "95d56007",
   "metadata": {},
   "source": [
    "# Problem statement"
   ]
  },
  {
   "cell_type": "markdown",
   "id": "14ab023c",
   "metadata": {},
   "source": [
    "In the real estate industry, determining the appropriate rental price for a property is crucial for\n",
    "property owners, tenants, and property management companies. Accurate rent predictions can\n",
    "help landlords set competitive prices, tenants make informed rental decisions, and property\n",
    "management companies optimize their portfolio management.\n",
    "The goal of this project is to develop a data-driven model that predicts the rental price of\n",
    "residential properties based on relevant features. By analyzing historical rental data and\n",
    "property attributes, the model aims to provide accurate and reliable rent predictions."
   ]
  },
  {
   "cell_type": "markdown",
   "id": "68314e99",
   "metadata": {},
   "source": [
    "# Needed packages"
   ]
  },
  {
   "cell_type": "code",
   "execution_count": 1,
   "id": "bd782631",
   "metadata": {},
   "outputs": [],
   "source": [
    "# for data reading and data manipulation\n",
    "import numpy as np\n",
    "import pandas as pd\n",
    "import statistics as st\n",
    "# for data visualization\n",
    "import matplotlib.pyplot as plt\n",
    "import seaborn as sns\n",
    "%matplotlib inline\n",
    "#other needs\n",
    "import json\n",
    "import ast\n",
    "from geopy.geocoders import Nominatim\n",
    "from fuzzywuzzy import process\n",
    "from fuzzywuzzy import fuzz\n",
    "from fuzzywuzzy import process\n",
    "import re\n",
    "\n",
    "# for model creation and model evaluation\n",
    "from sklearn.model_selection import train_test_split\n",
    "from sklearn.model_selection import cross_val_score\n",
    "from sklearn.preprocessing import StandardScaler\n",
    "from sklearn.linear_model import LinearRegression"
   ]
  },
  {
   "cell_type": "markdown",
   "id": "df3c5b87",
   "metadata": {},
   "source": [
    "# Import the csv file"
   ]
  },
  {
   "cell_type": "code",
   "execution_count": 2,
   "id": "23e7ad87",
   "metadata": {},
   "outputs": [],
   "source": [
    "df = pd.read_excel(\"House_Rent_Train.xlsx\")\n",
    "#df.iloc[:,0].isnull().sum()\n",
    "df.drop(df.tail(23).index , inplace=True) #Removing last 23 rows coz its full of null"
   ]
  },
  {
   "cell_type": "code",
   "execution_count": 3,
   "id": "7001dedc",
   "metadata": {},
   "outputs": [],
   "source": [
    "pd.set_option('display.max_columns',None)"
   ]
  },
  {
   "cell_type": "markdown",
   "id": "5fea0e4c",
   "metadata": {},
   "source": [
    "# Convert amenities into a new DF"
   ]
  },
  {
   "cell_type": "code",
   "execution_count": 4,
   "id": "debfc953",
   "metadata": {},
   "outputs": [],
   "source": [
    "num = 0\n",
    "p_df = pd.DataFrame()\n",
    "for i in range(0,20532):\n",
    "    num = i\n",
    "    d_j = json.loads(df.amenities[num])\n",
    "    df_3 = pd.DataFrame(d_j,index=[i])\n",
    "    p_df = pd.concat([p_df,df_3],ignore_index=True)\n",
    "p_df"
   ]
  },
  {
   "cell_type": "code",
   "execution_count": 5,
   "id": "545e60de",
   "metadata": {},
   "outputs": [],
   "source": [
    "#Need to drop repeated columns \n",
    "drop = ['LIFT','GYM','POOL']\n",
    "p_df.drop(drop,axis=1,inplace=True)"
   ]
  },
  {
   "cell_type": "code",
   "execution_count": 6,
   "id": "f91317ae",
   "metadata": {},
   "outputs": [],
   "source": [
    "p_df.astype(bool)"
   ]
  },
  {
   "cell_type": "markdown",
   "id": "6c1f8d86",
   "metadata": {},
   "source": [
    "# Merge both Dataframes"
   ]
  },
  {
   "cell_type": "code",
   "execution_count": 7,
   "id": "e946fb5c",
   "metadata": {},
   "outputs": [],
   "source": [
    "Df = pd.DataFrame()\n",
    "Df = pd.concat([Df,df,p_df],axis=1)"
   ]
  },
  {
   "cell_type": "code",
   "execution_count": 8,
   "id": "4de1ff3d",
   "metadata": {},
   "outputs": [],
   "source": [
    "#Filling all absent values as False\n",
    "\n",
    "Df['CLUB'].fillna(False,inplace=True)\n",
    "Df['CPA'].fillna(False,inplace=True)\n",
    "Df['GP'].fillna(False,inplace=True)\n",
    "Df['RWH'].fillna(False,inplace=True)\n",
    "Df['STP'].fillna(False,inplace=True)\n",
    "Df['VP'].fillna(False,inplace=True)\n",
    "Df"
   ]
  },
  {
   "cell_type": "code",
   "execution_count": 9,
   "id": "b86af383",
   "metadata": {
    "scrolled": true
   },
   "outputs": [],
   "source": [
    "null_df = Df[Df['locality'].isnull()]\n",
    "l = pd.concat([null_df['latitude'],null_df['longitude'],null_df['locality'],null_df['id']],ignore_index=False,axis=1)\n",
    "pp = pd.DataFrame(l)\n",
    "pp"
   ]
  },
  {
   "cell_type": "code",
   "execution_count": 10,
   "id": "7736753c",
   "metadata": {},
   "outputs": [],
   "source": [
    "#Finding NAN locality using latitude and longitude"
   ]
  },
  {
   "cell_type": "code",
   "execution_count": 11,
   "id": "cd451813",
   "metadata": {},
   "outputs": [],
   "source": [
    "def find_location(pp):\n",
    "    geolocator = Nominatim(user_agent=\"location_finder\")\n",
    "    location = geolocator.reverse((pp['latitude'], pp['longitude']), exactly_one=True)\n",
    "    \n",
    "    if location:\n",
    "        return location.address\n",
    "    \n",
    "pp['locality'] = pp.apply(find_location, axis=1)"
   ]
  },
  {
   "cell_type": "code",
   "execution_count": null,
   "id": "b9df3394",
   "metadata": {},
   "outputs": [],
   "source": [
    "#Drop latitude and longitude from pp \n",
    "pp.drop(columns='latitude',inplace=True,axis=1)\n",
    "pp.drop(columns='longitude',inplace=True,axis=1)"
   ]
  },
  {
   "cell_type": "code",
   "execution_count": null,
   "id": "f1817ffa",
   "metadata": {},
   "outputs": [],
   "source": [
    "# Define a function to convert to a single word if \"area name\" is present\n",
    "def convert_to_single_word(cell_text, target_word):\n",
    "    words = cell_text.split(',')\n",
    "    for word in words:\n",
    "        if target_word in word:\n",
    "            return target_word\n",
    "    return cell_text\n",
    "\n",
    "# Apply the function using lambda function\n",
    "word = ['Bommanahalli','Mahadevapura','MSO Colony','Siddapura','Bismillah Nagar','Sriramamandir Ward','Malleshpalya','Basavanagudi Ward','Bhuvaneshwari Nagar','Attiguppe Ward','BTM Layout Ward','Mahadeshwara Nagara','Hoysala Nagara','Kaggadasapura','Kottigepalya','City Market','Madivala','Rajarajeshwari Nagar','Katriguppe','Jakkasandra','J P Nagar','Pattabhiram Nagar','Mailasandra','Agaram','Kumaraswamy Layout','Kurubara Halli','Domlur','Gayatri Nagara','Saneguruvanahalli','Austin Town BDA Layout','Dasarahalli','Halasooru','GM Palya','GKW Layout','Corporation Colony','Cottonpete','Koramangala','Jeevanbhima Nagar','Jogupalya']\n",
    "for i in word:\n",
    "    target_word = i\n",
    "    pp['locality'] = pp['locality'].apply(lambda x: convert_to_single_word(x, target_word))\n",
    "pp"
   ]
  },
  {
   "cell_type": "code",
   "execution_count": null,
   "id": "4fe67b0b",
   "metadata": {},
   "outputs": [],
   "source": [
    "#Create DF_ and insert pp and DF into it\n",
    "Df_ = Df.combine_first(pp)\n",
    "column_p = ['id', 'type', 'locality', 'activation_date', 'latitude', 'longitude','lease_type', 'gym', 'lift', 'swimming_pool', 'negotiable','furnishing', 'parking', 'property_size', 'property_age', 'bathroom','facing', 'cup_board', 'floor', 'total_floor', 'amenities','water_supply', 'building_type', 'balconies', 'rent', 'INTERNET', 'AC','CLUB', 'INTERCOM', 'CPA', 'FS', 'SECURITY', 'SC', 'GP', 'PARK', 'RWH','STP', 'HK', 'PB', 'VP']"
   ]
  },
  {
   "cell_type": "code",
   "execution_count": null,
   "id": "7240e098",
   "metadata": {},
   "outputs": [],
   "source": [
    "D_F = Df_[column_p]\n",
    "D_F"
   ]
  },
  {
   "cell_type": "code",
   "execution_count": null,
   "id": "edce7fb2",
   "metadata": {},
   "outputs": [],
   "source": [
    "#Filled NAN types based on their balconies and size and type\n",
    "type_df = D_F[D_F['type'].isna()]\n",
    "types = pd.concat([type_df['type'],type_df['property_size'],type_df['balconies'],type_df['building_type']],axis=1,ignore_index=False)\n",
    "types['type'].fillna('BHK2',inplace=True)\n",
    "#print(types) if we need remove command and see it"
   ]
  },
  {
   "cell_type": "code",
   "execution_count": null,
   "id": "e166b56b",
   "metadata": {},
   "outputs": [],
   "source": [
    "DF_ = D_F.combine_first(types)\n",
    "DF = DF_[column_p]"
   ]
  },
  {
   "cell_type": "code",
   "execution_count": null,
   "id": "26f2bc3f",
   "metadata": {},
   "outputs": [],
   "source": [
    "#make all types as smaller case \n",
    "DF['type']=DF['type'].str.lower()\n",
    "DF['type'].replace({'1bhk1':'bhk1','bhk4plus':'bhk4'},inplace=True)"
   ]
  },
  {
   "cell_type": "code",
   "execution_count": null,
   "id": "dd0dc1c4",
   "metadata": {},
   "outputs": [],
   "source": [
    "#Remove amenties \n",
    "DF.drop('amenities',axis=1,inplace=True)"
   ]
  },
  {
   "cell_type": "code",
   "execution_count": null,
   "id": "dbb9af46",
   "metadata": {},
   "outputs": [],
   "source": [
    "#---------------To remove Duplicated Id's------------------#\n",
    "DF.drop(DF.tail(32).index,inplace=True)\n",
    "#---------------Duplicated Id's removed------------------#"
   ]
  },
  {
   "cell_type": "code",
   "execution_count": null,
   "id": "3fee8842",
   "metadata": {},
   "outputs": [],
   "source": [
    "#make DF['locality'] and DF['id'] as a DF\n",
    "area_info = pd.concat([DF['locality'],DF['id']],ignore_index=False,axis=1)\n",
    "area_df = pd.DataFrame(area_info)"
   ]
  },
  {
   "cell_type": "markdown",
   "id": "c508ee08",
   "metadata": {},
   "source": [
    "# Convert all the localities as a single word"
   ]
  },
  {
   "cell_type": "code",
   "execution_count": null,
   "id": "6a302b32",
   "metadata": {},
   "outputs": [],
   "source": [
    "# Define a function to convert to a single word if \"area name\" is present\n",
    "def convert_to_single_word(cell_text, target_word):\n",
    "    words = cell_text.split(',')\n",
    "    for word in words:\n",
    "        if target_word in word:\n",
    "            return target_word\n",
    "    return cell_text\n",
    "\n",
    "# Apply the function using lambda function\n",
    "word = ['Whitefield','Attiguppe','Bommanahalli','Kodihalli','Bellandur','Vishweshwarapura','JP Nagar','HSR Layout','Doctor Ambedkar Nagar Road','Seetharampalya','Mahadevapura','Kodihalli','Hoodi','Pulikeshi Nagar','Halanayakanahalli','Yelachenahallli','MSO Colony','Krishnarajapura','Siddapura','Bismillah Nagar','Sriramamandir Ward','Malleshpalya','Basavanagudi Ward','Bhuvaneshwari Nagar','Attiguppe Ward','BTM Layout Ward','Mahadeshwara Nagara','Hoysala Nagara','Kaggadasapura','Kottigepalya','City Market','Madivala','Rajarajeshwari Nagar','Katriguppe','Jakkasandra','J P Nagar','Pattabhiram Nagar','Mailasandra','Agaram','Kumaraswamy Layout','Kurubara Halli','Domlur','Gayatri Nagara','Saneguruvanahalli','Austin Town BDA Layout','Dasarahalli','Halasooru','GM Palya','GKW Layout','Corporation Colony','Cottonpete','Koramangala','Jeevanbhima Nagar','Jogupalya']\n",
    "for i in word:\n",
    "    target_word = i\n",
    "    area_df['locality'] = area_df['locality'].apply(lambda x: convert_to_single_word(x, target_word))\n",
    "#print(area_df)"
   ]
  },
  {
   "cell_type": "code",
   "execution_count": null,
   "id": "2ea4e9b8",
   "metadata": {},
   "outputs": [],
   "source": [
    "# Define a function to convert to a single word if \"area name\" is present\n",
    "\n",
    "#----------------SECOND SET----------------------#\n",
    "def convert_to_single_word(cell_text, target_word):\n",
    "    words = cell_text.split(',')\n",
    "    for word in words:\n",
    "        if target_word in word:\n",
    "            return target_word\n",
    "    return cell_text\n",
    "\n",
    "# Apply the function using lambda function\n",
    "words=['Jayanagar','Srinagar','Srirampura','Kasavanahalli','Bilekahalli','Jeevan Bima Nagar','Sheshadripuram','Uttarahalli Hobli','Kalasipalya','Ejipura','Vimanapura','Suddagunte Palya','Govindaraja Nagar Ward','Tavarekere','Vivek Nagar','Nagarbhavi','Indiranagar','Bennigana Halli','Rajaji Nagar','Rajarajeshwarinagar','Vijayanagar','Nayanda Halli','Vignan Nagar','BTM Layout','Basaveshwar Nagar','New Tippasandra','Hosakerehalli','Doddakannelli','Marathahalli','Harlur','Chandra Layout','Murgesh Pallya','BTM Layout 2nd Stage','Shivaji Nagar','AECS Layout','Chinnapanna Halli','Basavanagara','Adugodi','Vijaya Nagar','Maruti Nagar','RR Nagar','Raja Rajeshwari Nagar','C V Raman Nagar','Brookefield','Munnekollal','Doddanekkundi','Marathahalli','Pantarapalya','Brindavan Layout','Banashankari','Nagavarapalya','Kadugodi','Varthur','Basavanagudi','Padmanabhanagar']\n",
    "\n",
    "for i in words:\n",
    "    target_word = i\n",
    "    area_df['locality'] = area_df['locality'].apply(lambda x: convert_to_single_word(x, target_word))\n",
    "#print(area_df)"
   ]
  },
  {
   "cell_type": "code",
   "execution_count": null,
   "id": "0e5112ca",
   "metadata": {},
   "outputs": [],
   "source": [
    "# Define a function to convert to a single word if \"area name\" is present\n",
    "\n",
    "#----------------THIRD SET----------------------#\n",
    "def convert_to_single_word(cell_text, target_word):\n",
    "    words = cell_text.split(',')\n",
    "    for word in words:\n",
    "        if target_word in word:\n",
    "            return target_word\n",
    "    return cell_text\n",
    "\n",
    "# Apply the function using lambda function\n",
    "Words = ['Ulsoor','Chickpet','Hermit Colony','Nagarathpete','Koralur','Kodipur','Yellagondanpalya','Balagere','Chamrajpet','Somasundarapalaya','koralur','Amblipura','Ferns City','Someshwara Nagar','Vibhutipura','Wilson Garden','Deepanjali Nagar','Byagadadenahalli Bus Stop','Annasandrapalya Extension','Subramanyanagar','Embassy Tech Village','Carmelaram','Channasandra','Doopanahalli','HAL','Ayyappa Nagar','Kaveri Pura','HSR 7th Sector','NGR Layout','Hosapalaya','Pattandhur Agrahar Village','Jyothi Puram','Gunjur Village','Binnipete','Bhoganhalli','Kanakpura Main Road','Sripuram','Mangammanapalya','Yattakodi','Mysore Road Satellite Bus Station','Kaikondrahalli','Chansandra','Thurahalli','Kodbisanhalli','Panathur','Somasundarapalya','Prestige Shanthinikethan','MARATHALLI','Chandana','Kadubeesanahalli','BTM','Yemalur','Chikkakannalli','Chikkalasandra','Murugeshpalya','shivajinagar','Maruthi Sevanagar','ITI Layout','Doddanekundi','Jeevanhalli']\n",
    "for i in Words:\n",
    "    target_word = i\n",
    "    area_df['locality'] = area_df['locality'].apply(lambda x: convert_to_single_word(x, target_word))\n",
    "#print(area_df)"
   ]
  },
  {
   "cell_type": "code",
   "execution_count": null,
   "id": "baeacf0f",
   "metadata": {},
   "outputs": [],
   "source": [
    "# Define a function to convert to a single word if \"area name\" is present\n",
    "\n",
    "#----------------FOURTH SET----------------------#\n",
    "def convert_to_single_word(cell_text, target_word):\n",
    "    words = cell_text.split(',')\n",
    "    for word in words:\n",
    "        if target_word in word:\n",
    "            return target_word\n",
    "    return cell_text\n",
    "\n",
    "# Apply the function using lambda function\n",
    "Word=['Narayanapura','Cashier Layout','NR Colony','Kempegowda Nagar','Sudhama Nagar','Mudalapalya','Basaweshwara Nagar','Pattegarhpalya','CV Raman Nagar','Kurubarahalli','Purva Riviera','Rasanna Colony','Uday Nagar','Viveka Nagar','Jayamahal','Medavakkam','Giri Nagar','Guttahalli','Palace Guttahalli','Subramanyapura','VijayaSri Elixir','Malleshwaram','Vannarpet','Junnasandra','Neelasandra','Muneshwara Nagar','Devaiah Park','Maithri Layout','Byrasandra','Anepalya','Gunjur','Naganathapura','L B Sastry Nagar Lake','Richmond Town','Kumara Park East','Thubarahalli','Halasuru','Kamala Nagar','K.R Puram','Samethanahalli','Sarjapur','Tin factory','Mahalakshmipuram','Jagadish Nagar','KHB Colony','JayaNagar','Udaya Nagar','vinayakanagar','Bhoomi Reddy Colony','Chennammanakere Achukattu','behind udupi garden','Bhanu Residency','Veracious Rosedale']\n",
    "for i in Word:\n",
    "    target_word = i\n",
    "    area_df['locality'] = area_df['locality'].apply(lambda x: convert_to_single_word(x, target_word))\n",
    "\n",
    "area_df.loc[11][0]='Pattanduru Agrahara'\n",
    "area_df.loc[19][0]='Agaram'   "
   ]
  },
  {
   "cell_type": "code",
   "execution_count": null,
   "id": "6b8e1540",
   "metadata": {},
   "outputs": [],
   "source": [
    "area_df['locality'] = area_df.locality.replace({'J P Nagar':'JP Nagar','J. P. Nagar':'JP Nagar','Doddanakundi':'Doddanekkundi','J P Nagar':'JP Nagar','J.P. Nagar':'JP Nagar','Jeevan Bima Nagar':'Jeevanbheemanagar','RR Naga':'RR Nagar','Padmanbhanagar':'Padmanabhanagar','White filed':'Whitefield','Raja Rajeshwarinagar':'Raja Rajeshwari Nagar','Cox Town, Bengaluru, Karnataka, India':'Cox Town','J.P.Nagar':'JP Nagar','J. P. Nagar, Bengaluru, Karnataka, India':'JP Nagar','HSR layout sector 6':'HSR Layout','rajarajeshwarinagar':'Raja Rajeshwari Nagar','Basaveshwara Nagar':'Basaveshwar Nagar','Basaweshwar nagar':'Basaveshwar Nagar','Bhyraveshwara Nagar':'Basaveshwar Nagar','Bommenahalli':'Bommanahalli','C.V. Raman Nagar':'C V Raman Nagar','Krishnapura':'Krishnarajapura','RajaRajeshwari Nagar':'Raja Rajeshwari Nagar','Billekahalli':'Bilekahalli','RR nagar':'RR Nagar','Basaveshwaranagar':'Basaveshwar Nagar','J P NAGAR':'JP Nagar','Chinnappanahalli':'Chinnapanna Halli','Thippasandra':'New Tippasandra','basaveshwara Nagar':'Basaveshwar Nagar','Basavana nagar, hoodi':'Hoodi','Raja rajeshwari nagar':'Raja Rajeshwari Nagar','J.P Nagar 4th Phase':'JP Nagar','Vijaynagar':'Vijayanagar','Rajarajeshwari nagar':'Raja Rajeshwari Nagar','Basaveshwar Nagar':'Basaveshwar Nagar','Basaveshwara Nagar 3rd stage':'Basaveshwar Nagar','Iblur Village,Agram':'Agaram','Cox town':'Cox Town','JP nagar 2nd phase':'JP Nagar','BTm lyout':'BTM','Vijay Nagar':'Vijaya Nagar','Jeevan Bhimanagar':'Jeevanbheemanagar','Jeevan Bhima Nagar':'Jeevanbheemanagar','JeevanBhima Nagar':'Jeevanbheemanagar','Rajarajeshwari Nagar':'Raja Rajeshwari Nagar','Byraveshwara Nagar':'Basaveshwar Nagar','Basaveswarnagar':'Basaveshwar Nagar','kormangala':'Koramangala','Doddanekundi':'Doddanekkundi','DODDANAKUNDI':'Doddanekkundi','R R Nagar':'RR Nagar','Mahdevpura':'Mahadevapura','HSR':'HSR Layout','HSR layout 3rd sector':'HSR Layout','banashankari':'Banashankari','Banashankar':'Banashankari','hsr layout':'HSR Layout','J.P. Nagar':'JP Nagar','Agram':'Agaram','wilson garden':'Wilson Garden','Doctor Ambedkar Nagar Road':'Doctor Ambedkar Nagar'})\n",
    "\n",
    "\n",
    "area_df['locality'] = area_df.locality.replace({'Chinnappana Halli':'Chinnapanna Halli','Tippasandra':'New Tippasandra','Vijayanagar':'Vijaya Nagar','Rajarajeshwari Nagar':'Raja Rajeshwari Nagar','CV Raman Nagar':'C V Raman Nagar','Koramanagala':'Koramangala','Basaweshwara Nagar':'Basaveshwar Nagar','Rajarajeshwarinagar':'Raja Rajeshwari Nagar','Rajajinagar':'Rajaji Nagar','New Thippasandra':'New Tippasandra','New Thipasandra':'New Tippasandra','HSR layout':'HSR Layout','vijayanagar':'Vijaya Nagar','Basavanna Nagar':'Basaveshwar Nagar','HSR 6th Sector':'HSR Layout','Rajaji Nagar ':'Rajaji Nagar','Chinnapanahalli':'Chinnapanna Halli','Btm Layout 2nd Stage':'BTM','sarjapur main road':'Sarjapur','Padmanabha Nagar':'Padmanabhanagar','Basaveshvara Nagar':'Basaveshwar Nagar','Basavanagar':'Basaveshwar Nagar','Vijay nagar':'Vijaya Nagar','Rajarajeswari Nagar':'Raja Rajeshwari Nagar','White Field':'Whitefield','Indira Nagar 1st Stage':'Indiranagar','H A L 2nd Stage':'HAL','Doddakannalli':'Doddakannelli','HSR layout Sector 2':'HSR Layout','New Thippsandra':'New Tippasandra','R.R Nagar':'RR Nagar','Padmanabha nagar':'Padmanabhanagar','S Cadambi Vidya Kendra English Secondary School, 10th B Main Road, Basaveshwaranagar, Basaveshwara Nagar Ward, West Zone, Bengaluru, Bangalore North, Bengaluru Urban District, Karnataka, 560079, India':'Basaveshwar Nagar','Basava Nagar':'Basaveshwar Nagar','Bilekehalli':'Bilekahalli','Btm 2nd Stage':'BTM','Egipura':'Ejipura','Kodigehalli':'Kodihalli','Hudi':'Hoodi','Bomanahalli':'Bommanahalli','Kormangala':'Koramangala','null,null':'BTM','HSR 7th Sector':'HSR Layout','Doddakanelli':'Doddakannelli','HSR layout 5th Sector':'HSR Layout','whitefield':'Whitefield','Rajajinagar 6th Block':'Rajaji Nagar','Byraveshwaranagar':'Basaveshwar Nagar','Basavangudi':'Basavanagudi','#8 1st  main. 4th cross Bhuvaneshwari nagar. c.v Ramannagar Bangalore 560093. opp konda residency':'C V Raman Nagar'})\n"
   ]
  },
  {
   "cell_type": "code",
   "execution_count": null,
   "id": "f46ebc7d",
   "metadata": {},
   "outputs": [],
   "source": [
    "column_n = ['id', 'type', 'locality', 'activation_date', 'latitude', 'longitude','lease_type', 'gym', 'lift', 'swimming_pool', 'negotiable','furnishing', 'parking', 'property_size', 'property_age', 'bathroom','facing', 'cup_board', 'floor', 'total_floor','water_supply', 'building_type', 'balconies', 'rent', 'INTERNET', 'AC','CLUB', 'INTERCOM', 'CPA', 'FS', 'SECURITY', 'SC', 'GP', 'PARK', 'RWH','STP', 'HK', 'PB', 'VP']\n",
    "main_df = DF.combine_first(area_df)\n",
    "main_DF = main_df[column_n]\n",
    "main_DF"
   ]
  },
  {
   "cell_type": "code",
   "execution_count": null,
   "id": "cdfcb4b5",
   "metadata": {},
   "outputs": [],
   "source": [
    "# Define a function to convert to a single word if \"area name\" is present\n",
    "\n",
    "#----------------First SET----------------------#\n",
    "def convert_to_single_word(cell_text, target_word):\n",
    "    words = cell_text.split(',')\n",
    "    for word in words:\n",
    "        if target_word in word:\n",
    "            return target_word\n",
    "    return cell_text\n",
    "\n",
    "# Apply the function using lambda function\n",
    "city = ['Krishnarajapura','Murgesh Pallya','CV Raman Nagar','ambalipura','NR Colony','Vishweshwarapura','Doctor Ambedkar Nagar Road','Mudalapalya','Basaweshwara Nagar','Pattegarhpalya','Nagarabhavi 2nd Stage','Viveka Nagar','Anepalya','Vannarpet Layout','Basaweshwara Nagar','Purva Riviera','Rasanna Colony','Uday Nagar','Jayamahal','Ranganathapuram','Medavakkam','Giri Nagar','Ittamadu Main','Guttahalli','Palace Guttahalli','Subramanyapura','VijayaSri Elixir','Malleshwaram','Vannarpet','Rajarajeshwarinagar','Junnasandra','Neelasandra','Victoria Layout','Hosapalaya','Silver Springs Layout','Byrasandra','Naidu Layout','Kempegowda Nagar','Ittamadu','Sampangi Rama Nagar','GM Palya','Devaiah Park','Malleshpalya','Maithri Layout','Vivek Nagar','Rayasandra','Gunjur','Naganathapura','Cashier Layout','Samethanahalli','Jogupalya','Kalasipalya','L B Sastry Nagar Lake','Thubarahalli','Richmond Town','Halasuru','Yemalur','G.K.W. Layout Bus Stand','Shankarapura','Sarjapur','Jagadish Nagar','Tavarekere','Tin factory','Shivananda Nagar','Mahalakshmipuram','JayaNagar','KHB Colony','Kamala Nagar','Maruthi Nagar','Cottonpete','Sarjapur Main Road','Udaya Nagar','Agram','jpnagar 5th phase','Bhoomi Reddy Colony','Arehalli','Veracious Rosedale','behind udupi garden','Chennammanakere Achukattu','Maruthi Nagar','Attiguppe','17 E Cross','Kumara Park East','hoodi','J P Nagar 5 Phase','Balagere','Kodipur','Chamrajpet','Yellagondanpalya','Somasundarapalaya','Ferns City','Koralur','Someshwara Nagar','Cubbonpete','Nagarathpete','Murugeshpalya','Wilson Garden','Kumaraswamy Layout','Chikkakannalli','Seetharampalya','J. P. Nagar','HAL','Deepanjali Nagar','2nd Main Road','Ayyappa Nagar','Byagadadenahalli Bus Stop','80 Feet Rd','Annasandrapalya Extension','Embassy Tech Village','Subramanyanagar','Vibhutipura','J P Nagar Phase 5','Doopanahalli','Srinivaspura','Channasandra','Carmelaram','Ulsoor','NGR Layout','Basavanagara','Hermit Colony','Maruthi Sevanagar','Ejipura','Nagarbhavi','Sindhoor Convention Centre','Doddanekundi','Bismillah Nagar','Roopena Agrahara','Chandra Layout','Basaveshwar Nagar','Kaveri Pura','Suddagunte Palya','Doddakannelli','Srinagar','Chickpet','AECS Layout','Dooravani Nagar','Vijayanagar','Agrahara Dasarahalli','Kadugodi','Channasandra Main Road','shivajinagar','Kodihalli','Bhoganhalli','Jeevan Bima Nagar','Sheshadripuram','New Tippasandra','Bennigana Halli','Vignan Nagar','Mangammanapalya','Pattandhur Agrahar Village','Sector 7','BTM 1st Stage','Yattakodi','Koramangala 1st Block','Kaikondrahalli','Mysore Road Satellite Bus Station','Bommanahalli','Chikkabellandur','Adugodi','Rajaji Nagar','Bharati Nagar','Chansandra','Vimanapura','Shivaji Nagar','Abbaiah Reddy Layout','Chikkalasandra','Turahalli','Thurahalli','Binnipete','Indiranagar','Srirampura','Hosakerehalli','Kodbisanhalli','Bilekahalli','Raja Rajeshwari Nagar','Rajaji Nagar','Kadubeesanahalli','Pai Layout','Chinnapanna Halli','Cox Town','Panathur','Basaveshwaranagar','Koramangala','Somasundarapalya','Vijaya Nagar','Uttarahalli Hobli','RR Nagar','Devasthanagalu','Hoodi','Yelachenahallli','BTM 2nd Stage','Jayanagar 1st Block','Jayanagar','Bellandur','HSR Layout','Munnekollal','Adarsh Vista','C V Raman Nagar','Mahadevapura','MARATHALLI','BTM Layout','Nayanda Halli','Kaggadasapura','Varthur','Banashankari','Padmanabhanagar','1st Block Koramangala','Basavanagudi','Brindavan Layout','HAL 2nd Stage','HSR Layout 5th Sector','Pulikeshi Nagar','Whitefield','Brookefield','JP Nagar','Whitefield Hope Farm Junction','Marathahalli','Maheswari Nagar','Kasavanahalli','Doddanekkundi','Harlur','Halanayakanahalli','Koramangala 4th Block']\n",
    "for i in city:\n",
    "    target_word = i\n",
    "    main_DF.loc[:,'locality'] = main_DF.loc[:,'locality'].apply(lambda x: convert_to_single_word(x, target_word))\n",
    "main_DF"
   ]
  },
  {
   "cell_type": "markdown",
   "id": "7475264e",
   "metadata": {},
   "source": [
    "# Replace all the spelling mistakes in locality"
   ]
  },
  {
   "cell_type": "code",
   "execution_count": null,
   "id": "e154adde",
   "metadata": {},
   "outputs": [],
   "source": [
    "main_DF['locality'] = main_DF['locality'].replace(['Jeevan Bhima Nagar','Jeevan Bhimanagar','Jeevan Bima Nagar','JeevanBhima Nagar','Jeevanbhima Nagar','Jai Bheema Nagar','Jay Bheema Nagar','Jeevanbheemanagar','Jeevanbhima Nagar'],'Jeevanbhima Nagar')\n",
    "main_DF['locality'] = main_DF['locality'].replace(['KR Puram'],'KR puram')\n",
    "main_DF['locality'] = main_DF['locality'].replace(['Kathreguppe','Kathriguppe','Katriguppe'],'Katriguppe')\n",
    "main_DF['locality'] = main_DF['locality'].replace(['shanthi nagar','shanti nagar','Shanthi Nagar','Shanthi nagar','Shanthinagar','Shanti Nagar'],'Shanti Nagar')\n",
    "main_DF['locality'] = main_DF['locality'].replace([ 'Srinivapura Post','Srinivas Nagar','Srinivasa Nagar','Srinivaspura'],'Srinivas Nagar')\n",
    "main_DF['locality'] = main_DF['locality'].replace(['Thyagaraja Nagar','Thyagarajanagar','Tyagaraja Nagar'],'Thyagaraja Nagar')\n",
    "main_DF['locality'] = main_DF['locality'].replace(['Uday Nagar','Udaya Nagar','Udayanagar','Udayanagar 2nd stage','Udayanagar Extension'],'Udaya Nagar')\n",
    "#main_DF['locality'] = main_DF['locality'].replace\n",
    "#main_DF['locality'] = main_DF['locality'].replace\n",
    "#main_DF['locality'] = main_DF['locality'].replace\n",
    "main_DF['locality'] = main_DF['locality'].replace(['kodihalli','Kodigehalli','Kodihalli'],'Kodihalli')\n",
    "main_DF['locality'] = main_DF['locality'].replace(['wilson garden'],'Wilson Garden')\n",
    "main_DF['locality'] = main_DF['locality'].replace(['Suddaguntapalya','Sunkadakatte','Suddagunte Palya','Suddaguntepalya','Suddugunte Palya'],'Suddagunte Palya')\n",
    "main_DF['locality'] = main_DF['locality'].replace(['Krishnapura'],'Krishnarajapura')\n",
    "main_DF['locality'] = main_DF['locality'].replace(['Tippasandra','Thippasandra','New Thipasandra','New Thippasandra','New Thippsandra','New Tippasandra'],'New Tippasandra')\n",
    "main_DF['locality'] = main_DF['locality'].replace(['Chandra Layout','Chandrashekhara Layout'],'Chandra Layout')\n",
    "main_DF['locality'] = main_DF['locality'].replace(['Chandana','Chandana layout','Chandana,'],'Chandana')\n",
    "main_DF['locality'] = main_DF['locality'].replace(['Raja Rajeshwari Nagar','Raja Rajeshwarinagar','Raja rajeshwari nagar','RajaRajeshwari Nagar','Rajarajeshwari Nagar','Rajarajeshwari nagar','Rajarajeshwarinagar','Rajarajeswari Nagar','Rajeshwari Nagar','rajarajeshwarinagar'],'Raja Rajeshwari Nagar')\n",
    "main_DF['locality'] = main_DF['locality'].replace(['sarjapur main road','sarjapur wipro'],'Sarjapur')\n",
    "main_DF['locality'] = main_DF['locality'].replace(['Cox town'],'Cox Town')\n",
    "main_DF['locality'] = main_DF['locality'].replace(['Chamarajapete','Chamarajpet','Chamrajpet'],'Chamrajpet')\n",
    "main_DF['locality'] = main_DF['locality'].replace(['Chinnapanahalli','Chinnapanna Hall','Chinnapanna Halli','Chinnappana Halli','Chikkakannalli','Chinnappanahalli'],'Chinnapanna Halli')\n",
    "main_DF['locality'] = main_DF['locality'].replace(['Malleshwaram','Malleswaram','Malleswaram West','malleshwaram'],'Malleshwaram')\n",
    "main_DF['locality'] = main_DF['locality'].replace(['Srinivasa Colony','Srinivasa Nagar','Srinivasnagar'],'Srinivasa Nagar')\n",
    "main_DF['locality'] = main_DF['locality'].replace(['Shiva Nagar','Shivaji Nagar','Shivajinagar','Shivanagar','shivajinagar'],'Shivaji Nagar')\n",
    "main_DF['locality'] = main_DF['locality'].replace(['H A L 2nd Stage'],'HAL')\n",
    "main_DF['locality'] = main_DF['locality'].replace(['Hanumanth Nagar','Hanumantha Nagar','Hanumanthanagar','Hanumanthnagar'],'Hanumanth Nagar')\n",
    "main_DF['locality'] = main_DF['locality'].replace(['Jogupalaya'],'Jogupalya')"
   ]
  },
  {
   "cell_type": "code",
   "execution_count": null,
   "id": "4e4f8ee6",
   "metadata": {},
   "outputs": [],
   "source": [
    "main_DF['locality'] = main_DF['locality'].replace(['2nd Block Rajajinagara','Rajaji Nagar','RajajiNagar','Rajajinagar','Rajajinagar 3rd Block','Rajajinagar 6th Block'],'Rajaji Nagar')\n",
    "main_DF['locality'] = main_DF['locality'].replace(['Indira Nagar','Indira Nagar 1st Stage','Indira Nagar II Stage','Indiranagar'],'Indira Nagar')\n",
    "main_DF['locality'] = main_DF['locality'].replace(['Kasavana Halli','Kasavanahalli','Kasavanhalli','kasavanahalli'],'Kasavanahalli')\n",
    "main_DF['locality'] = main_DF['locality'].replace(['Nagarabhavi','Naagarabaavi','Nagarbhavi','Nagarabhavi 1st Stage','Nagarabhavi 2nd Stage','Nagarabhavi 2nd stage','nagarabhavi'],'Nagarbhavi')\n",
    "main_DF['locality'] = main_DF['locality'].replace(['Egipura','Ejipura'],'Ejipura')\n",
    "main_DF['locality'] = main_DF['locality'].replace([ 'Kumaraswami Layout','Kumaraswamy Layout'],'Kumaraswamy Layout')\n",
    "main_DF['locality'] = main_DF['locality'].replace(['Uttarahalli','Uttarahalli Hobli','Uttarahalli Main Road','Uttrahalli'],'Uttarahalli Hobli')\n",
    "main_DF['locality'] = main_DF['locality'].replace(['Basava Nagar','basaveshwara Nagar','Basavanagar','Basavanagara','Basavanna Nagar','Basaveshvara Nagar','Basaveshwar Nagar','Basaveshwar nagar','Byraveshwaranagar','Byraveshwara Nagar','Basaveshwara Nagar','Basaveshwara Nagar 3rd stage','Basaveshwaranagar','Basaveswarnagar','Basaweshwar nagar','Basaweshwara Nagar','Basveswar Nagar'],'Basaveshwar Nagar')\n",
    "main_DF['locality'] = main_DF['locality'].replace(['#8 1st  main. 4th cross Bhuvaneshwari nagar. c.v Ramannagar Bangalore 560093. opp konda residency','C V Raman Nagar','C.V Raman Nagar','C.V. Raman Nagar','CV Raman Nagar'],'C V Raman Nagar')\n",
    "main_DF['locality'] = main_DF['locality'].replace(['Doddanakundi','Doddanekkundi','Doddanekundi'],'Doddanekkundi')\n",
    "main_DF['locality'] = main_DF['locality'].replace(['Kadugod','Audugodi','Kadugodi','kadugodi','Adugodi'],'Kadugodi')\n",
    "main_DF['locality'] = main_DF['locality'].replace(['Padmanabha Nagar','Padmanabha nagar','Padmanabhanaga','Padmanabhanagar','Padmanbhanagar'],'Padmanabhanagar')\n",
    "main_DF['locality'] = main_DF['locality'].replace(['Murgesh Pally','Murgesh Pallya','Murgeshpalya','Murugesh Pallya','Murugesh Palya','Murugeshapalya','Murugeshpalya'],'Murgesh Pallya')\n",
    "main_DF['locality'] = main_DF['locality'].replace(['Haralur'],'Harlur')\n",
    "main_DF['locality'] = main_DF['locality'].replace(['Kadabeesanahalli','Kadubeesanahalli','kadubeesanahalli'],'Kadubeesanahalli')\n",
    "main_DF['locality'] = main_DF['locality'].replace(['Doddakanelli','Doddakannalli','Doddakannelli','Doddakennalli'],'Doddakannelli')\n",
    "main_DF['locality'] = main_DF['locality'].replace(['ulsoor metro station'],'Ulsoor')\n",
    "main_DF['locality'] = main_DF['locality'].replace(['Chikkalasandra','Chikkalsandra'],'Chikkalasandra')\n",
    "main_DF['locality'] = main_DF['locality'].replace(['Kaikondanahalli','Kaikondrahalli','kaikondranahalli'],'Kaikondrahalli')\n",
    "main_DF['locality'] = main_DF['locality'].replace(['Bilekahalli','Bilekehalli','Billekahalli'],'Bilekahalli')\n",
    "main_DF['locality'] = main_DF['locality'].replace(['Domlur 1st Stage','Domlur I Stage','Domlur Layout','Domlur Stage 2','Domlur Village'],'Domlur')"
   ]
  },
  {
   "cell_type": "code",
   "execution_count": null,
   "id": "9acb4bb7",
   "metadata": {},
   "outputs": [],
   "source": [
    "main_DF['locality'] = main_DF['locality'].replace(['J P Nagar','JP nagar 2nd phase','J P Nagar II Phase','J P Nagar 4th phase','2nd Phase, J P Nagar','jpnagar 5th phase','J.P Nagar 4th Phase','J P Nagar 1st Phase','J P NAGAR','J P Nagar 5th phase','J P Nagar 5th Phase','J P Nagar 2nd Phase','J.P.Nagar','4th phase, J P Nagar','J. P. Nagar','J P Nagar Phase 5','J P Nagar 5 Phase','J.P. Nagar'],'JP Nagar')\n",
    "main_DF['locality'] = main_DF['locality'].replace(['White Field','null,null','whitefield','White filed'],'Whitefield')\n",
    "main_DF['locality'] = main_DF['locality'].replace(['Banashankari','banashankari','Banashakari','Banashankar','Banshankari 3rd Stage'],'Banashankari')\n",
    "main_DF['locality'] = main_DF['locality'].replace(['HSR','HSR 6th Sector','hsr layout','Hsr Layout','HSR 7th Sector','HSR Layout','HSR Sector 1','HSR layout','HSR layout 3rd sector','HSR layout 5th Sector','HSR layout Sector 2','HSR layout sector 6','HVR Layout'],'HSR Layout')\n",
    "main_DF['locality'] = main_DF['locality'].replace(['BTM 1st Stage','btm layout','BTM 2nd Stage','BTM LAYOUT STAGE 2','BTM Layout','BTM layout','BTM, Stage 1','BTm lyout','Btm 2nd Stage','Btm Layout 2nd Stage'],'BTM Layout')\n",
    "main_DF['locality'] = main_DF['locality'].replace(['Mahadevapura','Mahadevpura','Mahdevpura'],'Mahadevapura')\n",
    "main_DF['locality'] = main_DF['locality'].replace(['Koramanagala','Koramangala','Kormangala','koramangala','kormangala'],'Koramangala')\n",
    "main_DF['locality'] = main_DF['locality'].replace(['Marathahalli','Marathalli','marathahalli','marathalli'],'Marathahalli')\n",
    "main_DF['locality'] = main_DF['locality'].replace(['3rd block jayanagar','Jayanagar','Jaya Nagar','Jaya Nagar 1st Block','Jaya Nagar 1st Block East','Jaya Nagar 9th Block','Jaya Nagar East','Jaya Nagar T Block','Jaya nagar','JayaNagar','Jayanagar','jayanagar','jayanagar 9th block'],'Jayanagar')\n",
    "main_DF['locality'] = main_DF['locality'].replace(['R R Nagar','RR Naga','RR Nagar','RR nagar'],'RR Nagar')\n",
    "main_DF['locality'] = main_DF['locality'].replace(['Munekolal','Munekolala','Munekollal','Munnekolala','Munnekolla','Munnekollal'],'Munnekollal')\n",
    "main_DF['locality'] = main_DF['locality'].replace(['Varthu','Varthur','varthur'],'Varthur')\n",
    "main_DF['locality'] = main_DF['locality'].replace(['kaggadasapura'],'Kaggadasapura')\n",
    "main_DF['locality'] = main_DF['locality'].replace(['Vijay Nagar','vijayanagar','Vijay nagar','Vijaya Nagar','Vijayanagar','Vijaynagar','vijayanagar'],'Vijaya Nagar')\n",
    "main_DF['locality'] = main_DF['locality'].replace(['Hoodi','Hudi','hoodi'],'Hoodi')\n",
    "main_DF['locality'] = main_DF['locality'].replace(['Basavanagudi','Basavangudi'],'Basavanagudi')\n",
    "main_DF['locality'] = main_DF['locality'].replace(['Boganahalli','Bhoganhalli','Bomanahalli','Bommanahalli','Bommenahalli'],'Bommanahalli')"
   ]
  },
  {
   "cell_type": "code",
   "execution_count": null,
   "id": "c0ba8f2b",
   "metadata": {},
   "outputs": [],
   "source": [
    "main_DF['locality'] = main_DF['locality'].replace('rustam bagh layout','rustam bagh')\n",
    "main_DF['locality'] = main_DF['locality'].replace('sadanandanagar','sadananda nagar')\n",
    "main_DF['locality'] = main_DF['locality'].replace(['sampangi rama nagar','sampangiram nagar','sampangirama nagar'],'sampangirama nagar')\n",
    "main_DF['locality'] = main_DF['locality'].replace('sathya sai layout','sathya layout')\n",
    "main_DF['locality'] = main_DF['locality'].replace('somasundarapalaya','somasundarapalya')\n",
    "main_DF['locality'] = main_DF['locality'].replace('srinivas nagar','srinivasa nagar')\n",
    "main_DF['locality'] = main_DF['locality'].replace('sudhama nagar,','sudhama nagar')\n",
    "main_DF['locality'] = main_DF['locality'].replace('sunrise aurora apartments, sanvi sankalpam main rd, bengaluru, karnataka 560067, india','sanvi sankalpam')\n",
    "main_DF['locality'] = main_DF['locality'].replace('teacher&#39;s colony','teachers colony')\n",
    "main_DF['locality'] = main_DF['locality'].replace('turahalli','tubarahalli')\n",
    "main_DF['locality'] = main_DF['locality'].replace('uber verdant, sy.no. 25/4, 24/2 ','uber verdant')\n",
    "main_DF['locality'] = main_DF['locality'].replace('vibhutipura','vibhuthipura')\n",
    "main_DF['locality'] = main_DF['locality'].replace('vidyapeeta circle','vidyapeeta layout')\n",
    "main_DF['locality'] = main_DF['locality'].replace(['vignan nagar','vignan ngar','vignana nagar'],'vignan nagar')\n",
    "main_DF['locality'] = main_DF['locality'].replace('vinayaka extension','vinayaka nagar')\n",
    "main_DF['locality'] = main_DF['locality'].replace('viveka nagar','vivek nagar')\n",
    "main_DF['locality'] = main_DF['locality'].replace('yelachenahallli','yelachenahalli')\n",
    "main_DF['locality'] = main_DF['locality'].replace('3th cross road,concorde garden city bangalore 560059 ','garden city')\n",
    "main_DF['locality'] = main_DF['locality'].replace('2nd main road','C V Raman Nagar')\n",
    "main_DF['locality'] = main_DF['locality'].replace('166, 2nd cross road,bengaluru','narayanapura')\n",
    "main_DF['locality'] = main_DF['locality'].replace('17 e cross','Halasuru')\n",
    "main_DF['locality'] = main_DF['locality'].replace('37, 10th main road,bengaluru','Chandana')\n",
    "main_DF['locality'] = main_DF['locality'].replace('80 feet rd','New Tippasandra')\n",
    "main_DF['locality'] = main_DF['locality'].replace('annapurneshwari nagar','annapoorneshwari nagar')\n",
    "main_DF['locality'] = main_DF['locality'].replace('avenue road cross basavana lane','basavana lane')\n",
    "main_DF['locality'] = main_DF['locality'].replace('bhanu residency, stage 2, bengaluru, karnataka, india','JP Nagar')"
   ]
  },
  {
   "cell_type": "code",
   "execution_count": null,
   "id": "568aa7fb",
   "metadata": {},
   "outputs": [],
   "source": [
    "main_DF['locality'] = main_DF['locality'].replace('kasthuriba nagar','kasturi nagar')\n",
    "main_DF['locality'] = main_DF['locality'].replace('kempapura agrahara','kempapura')\n",
    "main_DF['locality'] = main_DF['locality'].replace('kengeri satellite town','kengeri')\n",
    "main_DF['locality'] = main_DF['locality'].replace('kodichikknahalli','kodichikkanahalli')\n",
    "main_DF['locality'] = main_DF['locality'].replace('konena agrahar','konena agrahara')\n",
    "main_DF['locality'] = main_DF['locality'].replace(['kumara park east','kumara park west','kumarapark west'],'kumara park')\n",
    "main_DF['locality'] = main_DF['locality'].replace(['kundalahalli gate','kundanahalli'],'kundalahalli')\n",
    "main_DF['locality'] = main_DF['locality'].replace(['l b sastry nagar lake','l b shastry nagar','lbs nagar'],'lb shastri nagar')\n",
    "main_DF['locality'] = main_DF['locality'].replace('lakkasandra extension','lakkasandra')\n",
    "main_DF['locality'] = main_DF['locality'].replace(['lakshminarayana pura','lakshminarayanapuram'],'laksmipuram')\n",
    "main_DF['locality'] = main_DF['locality'].replace(['madivala','madivala,'],'madiwala')\n",
    "main_DF['locality'] = main_DF['locality'].replace('mangammanapalya','mangammanpalya')\n",
    "main_DF['locality'] = main_DF['locality'].replace('manjunatha nagar','manjunath nagar')\n",
    "main_DF['locality'] = main_DF['locality'].replace('mariyappanapalya','mariappanapalya')\n",
    "main_DF['locality'] = main_DF['locality'].replace(['marthi nagar','maruthi nagar','maruthi seva nagar','maruthi sevanagar','maruti nagar'],'maruti nagar')\n",
    "main_DF['locality'] = main_DF['locality'].replace('mottappanapalaya 3rd cross','moodalapalya')\n",
    "main_DF['locality'] = main_DF['locality'].replace(['muneshwara block','muneshwara nagar','muneswara block'],'muneshwara nagar')\n",
    "main_DF['locality'] = main_DF['locality'].replace(['mysore road','mysore road satellite bus station'],'mysore')\n",
    "main_DF['locality'] = main_DF['locality'].replace('nagondanahalli road','nagondanahalli')\n",
    "main_DF['locality'] = main_DF['locality'].replace('nallurhalli','nallurahalli')\n",
    "main_DF['locality'] = main_DF['locality'].replace(['nayanda halli','nayandahalli','nayandahallii','nayandanahalli'],'nayanda halli')\n",
    "main_DF['locality'] = main_DF['locality'].replace('near by hosahalli metro station','hosahalli')\n",
    "main_DF['locality'] = main_DF['locality'].replace(['new baiyappanahalli','old baiyyappanahalli','new baiyyappanahalli extension','new bayappanahalli'],'bayappanahalli')\n",
    "main_DF['locality'] = main_DF['locality'].replace('no: 70/a, sapthagiri nivas, 2nd main 4th cross brindavan nagar, bangalore-29','brindavan nagar')\n",
    "main_DF['locality'] = main_DF['locality'].replace('papareddipalya','papreddy palya')\n",
    "main_DF['locality'] = main_DF['locality'].replace('pattandhur agrahar village','pattandur agrahara')\n",
    "main_DF['locality'] = main_DF['locality'].replace(['poorna pragna layout','poornapragna housing society layout','poornapragna layout'],'poorna pragna layout')\n",
    "main_DF['locality'] = main_DF['locality'].replace('prashant nagar','prashanth nagar')\n",
    "main_DF['locality'] = main_DF['locality'].replace(['prestige ferns residency','prestige shanthinikethan, bengaluru, karnataka, india'],'prestige')\n",
    "main_DF['locality'] = main_DF['locality'].replace('pulkeshi nagar','pulikeshi nagar')\n",
    "main_DF['locality'] = main_DF['locality'].replace('reddypalya, jyothi nagar','reddypalya')\n",
    "main_DF['locality'] = main_DF['locality'].replace(['roopena agrahar','rupena agrahara'],'roopena agrahara')"
   ]
  },
  {
   "cell_type": "code",
   "execution_count": null,
   "id": "6b1a27cc",
   "metadata": {},
   "outputs": [],
   "source": [
    "main_DF['locality'] = main_DF['locality'].replace('girinagar','giri nagar')\n",
    "main_DF['locality'] = main_DF['locality'].replace(['gkw layouthttps://d3snwcirvb4r88.cloudfront.net/static/img/postyourproperty/icon/property.png','g.k.w. layout bus stand'],'gkw layout')\n",
    "main_DF['locality'] = main_DF['locality'].replace('gm palaya','gm palya')\n",
    "main_DF['locality'] = main_DF['locality'].replace(['govindaraja nagar','govindaraja nagar ward','govindarajanagar'],'govindaraja nagar')\n",
    "main_DF['locality'] = main_DF['locality'].replace('halasooru','halasuru')\n",
    "main_DF['locality'] = main_DF['locality'].replace(['hampi nagar','hampinagara rpc layout'],'hampi nagar')\n",
    "main_DF['locality'] = main_DF['locality'].replace('hanumagiri','hanumagiri nagar')\n",
    "main_DF['locality'] = main_DF['locality'].replace('hoysala nagara','hoysala nagar')\n",
    "main_DF['locality'] = main_DF['locality'].replace('itpl','itpl residential flats')\n",
    "main_DF['locality'] = main_DF['locality'].replace('jeevan bima nagar','jeevanbhima nagar')\n",
    "main_DF['locality'] = main_DF['locality'].replace('jeevanhalli','jeevanahalli')\n",
    "main_DF['locality'] = main_DF['locality'].replace('kadarenahalli','kadirenahalli')\n",
    "main_DF['locality'] = main_DF['locality'].replace(['kamakshi palya','kamakshipalya','kamaksipalya'],'kamakshi palya')\n",
    "main_DF['locality'] = main_DF['locality'].replace('kanakpura main road','kanakapura')\n",
    "#main_DF['locality'] = main_DF['locality'].replace\n",
    "#main_DF['locality'] = main_DF['locality'].replace"
   ]
  },
  {
   "cell_type": "code",
   "execution_count": null,
   "id": "958e80a5",
   "metadata": {},
   "outputs": [],
   "source": [
    "main_DF['locality'] = main_DF['locality'].replace(['a narayanapura','b narayanapura','b.narayanapura'],'narayanapura')\n",
    "main_DF['locality'] = main_DF['locality'].replace(['agara','agara village','agaram','agram'],'agaram')\n",
    "main_DF['locality'] = main_DF['locality'].replace([''],'amblipura')\n",
    "main_DF['locality'] = main_DF['locality'].replace(['annasandra palya','annasandrapalya','annasandrapalya extension'],'annasandrapalya')\n",
    "main_DF['locality'] = main_DF['locality'].replace(['anubhav nagar','anubhavanagara'],'anubhav nagar')\n",
    "main_DF['locality'] = main_DF['locality'].replace(['austin town','austin town bda layout'],'austin town')\n",
    "main_DF['locality'] = main_DF['locality'].replace(['banagirinagar','banagirinagara'],'banagiri nagar')\n",
    "main_DF['locality'] = main_DF['locality'].replace(['basava tonagudi'],'basavanagudi')\n",
    "main_DF['locality'] = main_DF['locality'].replace(['behind udupi garden'],'udupi garden')\n",
    "main_DF['locality'] = main_DF['locality'].replace(['beml layout','bhel layout','beml layout 3rd stage'],'beml layout')\n",
    "main_DF['locality'] = main_DF['locality'].replace(['bennigana halli'],'benniganahalli')\n",
    "main_DF['locality'] = main_DF['locality'].replace('bhyraveshwara nagar','bhuvaneshwari nagar')\n",
    "main_DF['locality'] = main_DF['locality'].replace('binny pete','binnipete')\n",
    "main_DF['locality'] = main_DF['locality'].replace('bismillahnagar','bismillah nagar')\n",
    "main_DF['locality'] = main_DF['locality'].replace('brindavan layout','brindavan nagar')\n",
    "main_DF['locality'] = main_DF['locality'].replace(['bsk 2nd stage','bsk 3rd stage','bsk 5th stage','bsk iii stage'],'bsk layout')\n",
    "main_DF['locality'] = main_DF['locality'].replace(['channasandra','chennasandra','chansandra'],'channasandra')\n",
    "main_DF['locality'] = main_DF['locality'].replace('dasarhalli','dasarahalli')\n",
    "main_DF['locality'] = main_DF['locality'].replace('doctor ambedkar nagar road','ambedkar nagar')\n",
    "main_DF['locality'] = main_DF['locality'].replace('dodda nekkundi extension','dodda nekkundi')\n",
    "main_DF['locality'] = main_DF['locality'].replace('doddanakundi','doddanekkundi')\n",
    "main_DF['locality'] = main_DF['locality'].replace('dwarka nagar','dwaraka nagar')\n",
    "main_DF['locality'] = main_DF['locality'].replace('frazer trown','frazer town')\n",
    "main_DF['locality'] = main_DF['locality'].replace(['gavipura','gavipuram','gavipuram extension','gavipuram extention'],'gavipuram')\n",
    "main_DF['locality'] = main_DF['locality'].replace(['garebhavipalya','garudachar palya','garvebhavi palya'],'garvebhavi palya')\n",
    "main_DF['locality'] = main_DF['locality'].replace(['gayathri nagar','gayatri nagara','gayatrinagar'],'gayathri nagar')"
   ]
  },
  {
   "cell_type": "code",
   "execution_count": null,
   "id": "751c5461",
   "metadata": {},
   "outputs": [],
   "source": [
    "main_DF.locality = main_DF.locality.str.lower()\n",
    "main_DF.locality.value_counts()\n",
    "\n",
    "#-------------------------Locality got cleaned------------------------------#"
   ]
  },
  {
   "cell_type": "code",
   "execution_count": null,
   "id": "a7a63a21",
   "metadata": {},
   "outputs": [],
   "source": [
    "#------------------------------------Columns changed into lower case----------------------------#\n",
    "main_DF.columns = main_DF.columns.str.lower()\n",
    "main_DF.shape"
   ]
  },
  {
   "cell_type": "markdown",
   "id": "163542a8",
   "metadata": {},
   "source": [
    "# Need to remove columns which not comtribute anything to the rent"
   ]
  },
  {
   "cell_type": "code",
   "execution_count": null,
   "id": "a9d22411",
   "metadata": {},
   "outputs": [],
   "source": [
    "main_DF.drop(columns = ['id','latitude','longitude'],inplace=True)\n",
    "main_DF"
   ]
  },
  {
   "cell_type": "markdown",
   "id": "da5c86f3",
   "metadata": {},
   "source": [
    "# Need to change Formats "
   ]
  },
  {
   "cell_type": "code",
   "execution_count": null,
   "id": "5cdc0b1e",
   "metadata": {},
   "outputs": [],
   "source": [
    "main_DF.activation_date = pd.to_datetime(main_DF.activation_date)\n",
    "main_DF.cup_board = main_DF.cup_board.astype(int)\n",
    "main_DF.floor = main_DF.floor.astype(int)\n",
    "main_DF.total_floor = main_DF.total_floor.astype(int)\n",
    "main_DF.property_age = main_DF.property_age.astype(int)\n",
    "main_DF.balconies = main_DF.balconies.astype(int)\n",
    "main_DF.rent = main_DF.rent.astype(int)\n",
    "main_DF.bathroom = main_DF.bathroom.astype(int)"
   ]
  },
  {
   "cell_type": "code",
   "execution_count": null,
   "id": "3ebbc173",
   "metadata": {},
   "outputs": [],
   "source": [
    "#Remove outliers \n",
    "\n",
    "#cup_board\n",
    "main_DF.drop(17624,inplace=True,axis=0)\n",
    "main_DF.drop(19153,inplace=True,axis=0)\n",
    "\n",
    "#Remove the rows which has single digit sq feet\n",
    "main_DF.drop(6075,inplace=True,axis=0)\n",
    "main_DF.drop(13582,inplace=True,axis=0)\n",
    "main_DF.drop(7873,inplace=True,axis=0)\n",
    "main_DF.drop(3354,inplace=True,axis=0)\n",
    "main_DF.drop(8844,inplace=True,axis=0)\n",
    "main_DF.drop(8624,inplace=True,axis=0)\n",
    "\n",
    "main_DF.drop(1115,inplace=True,axis=0)\n",
    "main_DF.drop(8435,inplace=True,axis=0)\n",
    "main_DF.drop(18857,inplace=True,axis=0)\n",
    "main_DF.drop(4338,inplace=True,axis=0)\n",
    "main_DF.drop(8502,inplace=True,axis=0)\n",
    "\n",
    "#proprty_age\n",
    "main_DF.drop(12769,axis=0,inplace=True)\n",
    "main_DF.drop(17913,axis=0,inplace=True)\n",
    "main_DF.drop(20132,axis=0,inplace=True)\n",
    "\n",
    "#bathroom\n",
    "main_DF.drop(2431,inplace=True,axis=0)\n",
    "\n",
    "#balconies\n",
    "main_DF.drop(13914,inplace=True,axis=0)\n",
    "main_DF.drop(13642,inplace=True,axis=0)\n",
    "main_DF.drop(13644,inplace=True,axis=0)\n",
    "main_DF.drop(15246,inplace=True,axis=0)\n",
    "\n",
    "#Known outliers are removed\n"
   ]
  },
  {
   "cell_type": "code",
   "execution_count": null,
   "id": "dc890637",
   "metadata": {},
   "outputs": [],
   "source": [
    "main_DF.drop(7289,inplace=True,axis=0)"
   ]
  },
  {
   "cell_type": "code",
   "execution_count": null,
   "id": "39b5b856",
   "metadata": {},
   "outputs": [],
   "source": [
    "main_DF['rent_year'] = main_DF['activation_date'].dt.year"
   ]
  },
  {
   "cell_type": "code",
   "execution_count": null,
   "id": "d6d1231a",
   "metadata": {},
   "outputs": [],
   "source": [
    "main_DF.drop(columns='activation_date',inplace=True)"
   ]
  },
  {
   "cell_type": "code",
   "execution_count": null,
   "id": "8420dad0",
   "metadata": {},
   "outputs": [],
   "source": [
    "main_DF = main_DF.drop_duplicates()\n",
    "main_DF.shape"
   ]
  },
  {
   "cell_type": "code",
   "execution_count": null,
   "id": "b1dda2d4",
   "metadata": {},
   "outputs": [],
   "source": [
    "main_DF"
   ]
  },
  {
   "cell_type": "markdown",
   "id": "0cb719a0",
   "metadata": {},
   "source": [
    "# Visualization"
   ]
  },
  {
   "cell_type": "code",
   "execution_count": null,
   "id": "861b9d20",
   "metadata": {},
   "outputs": [],
   "source": [
    "main_DF['locality'].value_counts().index[::-1]"
   ]
  },
  {
   "cell_type": "code",
   "execution_count": null,
   "id": "bd47e97a",
   "metadata": {
    "scrolled": true
   },
   "outputs": [],
   "source": [
    "#plotting count plots for all the categorical columns\n",
    "sns.set_theme(style='darkgrid',palette='pastel')\n",
    "plt.figure(figsize=(20,25))\n",
    "\n",
    "#1\n",
    "plt.subplot(431)\n",
    "sns.countplot(x=main_DF[\"type\"],order= main_DF['type'].value_counts().index[::-1])\n",
    "plt.xlabel='type'\n",
    "plt.ylabel='count'\n",
    "plt.title='rent according to type'\n",
    "\n",
    "plt.subplot(432)\n",
    "sns.countplot(x=main_DF[\"locality\"],order= main_DF['locality'].value_counts().index[::-1])\n",
    "plt.xlabel='locality'\n",
    "plt.ylabel='count'\n",
    "plt.title='rent according to locality'\n",
    "\n",
    "plt.subplot(433)\n",
    "sns.countplot(x=main_DF[\"lease_type\"],order= main_DF['lease_type'].value_counts().index[::-1])\n",
    "plt.xlabel='lease_type'\n",
    "plt.ylabel='count'\n",
    "plt.title='rent according to lease_type'\n",
    "\n",
    "plt.subplot(434)\n",
    "sns.countplot(x=main_DF[\"gym\"],order= main_DF['gym'].value_counts().index[::-1])\n",
    "plt.xlabel='gym'\n",
    "plt.ylabel='count'\n",
    "plt.title='rent according to gym'\n",
    "\n",
    "plt.subplot(435)\n",
    "sns.countplot(x=main_DF[\"lift\"],order= main_DF['lift'].value_counts().index[::-1])\n",
    "plt.xlabel='lift'\n",
    "plt.ylabel='count'\n",
    "plt.title='rent according to lift'\n",
    "\n",
    "plt.subplot(436)\n",
    "sns.countplot(x=main_DF[\"swimming_pool\"],order= main_DF['swimming_pool'].value_counts().index[::-1])\n",
    "plt.xlabel='swimming_pool'\n",
    "plt.ylabel='count'\n",
    "plt.title='rent according to swimming_pool'\n",
    "\n",
    "plt.subplot(437)\n",
    "sns.countplot(x=main_DF[\"negotiable\"],order= main_DF['negotiable'].value_counts().index[::-1])\n",
    "plt.xlabel='negotiable'\n",
    "plt.ylabel='count'\n",
    "plt.title='rent according to negotiable'\n",
    "\n",
    "plt.subplot(438)\n",
    "sns.countplot(x=main_DF[\"furnishing\"],order= main_DF['furnishing'].value_counts().index[::-1])\n",
    "plt.xlabel='furnishing'\n",
    "plt.ylabel='count'\n",
    "plt.title='rent according to furnishing'\n",
    "\n",
    "plt.subplot(439)\n",
    "sns.countplot(x=main_DF[\"parking\"],order= main_DF['parking'].value_counts().index[::-1])\n",
    "plt.xlabel='parking'\n",
    "plt.ylabel='count'\n",
    "plt.title='rent according to parking'\n",
    "\n",
    "\n",
    "plt.tight_layout()\n",
    "\n",
    "\n",
    "\n"
   ]
  },
  {
   "cell_type": "code",
   "execution_count": null,
   "id": "4518faa1",
   "metadata": {
    "scrolled": true
   },
   "outputs": [],
   "source": [
    "#2\n",
    "#plotting count plots for all the categorical columns\n",
    "sns.set_theme(style='darkgrid',palette='pastel')\n",
    "plt.figure(figsize=(20,25))\n",
    "\n",
    "plt.subplot(442)\n",
    "sns.countplot(x=main_DF[\"bathroom\"],order= main_DF['bathroom'].value_counts().index[::-1])\n",
    "plt.xlabel='bathroom'\n",
    "plt.ylabel='count'\n",
    "plt.title='rent according to bathroom'\n",
    "\n",
    "plt.subplot(443)\n",
    "sns.countplot(x=main_DF[\"facing\"],order= main_DF['facing'].value_counts().index[::-1])\n",
    "plt.xlabel='facing'\n",
    "plt.ylabel='count'\n",
    "plt.title='rent according to facing'\n",
    "\n",
    "plt.subplot(444)\n",
    "sns.countplot(x=main_DF[\"cup_board\"],order= main_DF['cup_board'].value_counts().index[::-1])\n",
    "plt.xlabel='cup_board'\n",
    "plt.ylabel='count'\n",
    "plt.title='rent according to cup_board'\n",
    "\n",
    "plt.subplot(445)\n",
    "sns.countplot(x=main_DF[\"floor\"],order= main_DF['floor'].value_counts().index[::-1])\n",
    "plt.xlabel='floor'\n",
    "plt.ylabel='count'\n",
    "plt.title='rent according to floor'\n",
    "\n",
    "plt.subplot(446)\n",
    "sns.countplot(x=main_DF[\"total_floor\"],order= main_DF['total_floor'].value_counts().index[::-1])\n",
    "plt.xlabel='total_floor'\n",
    "plt.ylabel='count'\n",
    "plt.title='rent according to total_floor'\n",
    "\n",
    "plt.subplot(447)\n",
    "sns.countplot(x=main_DF[\"water_supply\"],order= main_DF['water_supply'].value_counts().index[::-1])\n",
    "plt.xlabel='water_supply'\n",
    "plt.ylabel='count'\n",
    "plt.title='rent according to water_supply'\n",
    "\n",
    "plt.subplot(448)\n",
    "sns.countplot(x=main_DF[\"building_type\"],order= main_DF['building_type'].value_counts().index[::-1])\n",
    "plt.xlabel='building_type'\n",
    "plt.ylabel='count'\n",
    "plt.title='rent according to building_type'\n",
    "\n",
    "\n",
    "\n",
    "plt.tight_layout()\n"
   ]
  },
  {
   "cell_type": "code",
   "execution_count": null,
   "id": "56b305e1",
   "metadata": {},
   "outputs": [],
   "source": [
    "#plotting count plots for all the categorical columns\n",
    "sns.set_theme(style='darkgrid',palette='pastel')\n",
    "plt.figure(figsize=(15,20))\n",
    "\n",
    "plt.subplot(531)\n",
    "sns.countplot(x=main_DF[\"ac\"],order= main_DF['ac'].value_counts().index[::-1])\n",
    "plt.xlabel='ac'\n",
    "plt.ylabel='count'\n",
    "plt.title='rent according to ac'\n",
    "\n",
    "# plt.subplot(453)\n",
    "# sns.countplot(x=main_DF[\"balconies\"],order= main_DF['balconies'].value_counts().index[::-1])\n",
    "# plt.xlabel='balconies'\n",
    "# plt.ylabel='count'\n",
    "# plt.title='rent according to balconies'\n",
    "\n",
    "plt.subplot(532)\n",
    "sns.countplot(x=main_DF[\"club\"],order= main_DF['club'].value_counts().index[::-1])\n",
    "plt.xlabel='club'\n",
    "plt.ylabel='count'\n",
    "plt.title='rent according to club'\n",
    "\n",
    "plt.subplot(533)\n",
    "sns.countplot(x=main_DF[\"internet\"],order= main_DF['internet'].value_counts().index[::-1])\n",
    "plt.xlabel='internet'\n",
    "plt.ylabel='count'\n",
    "plt.title='rent according to internet'"
   ]
  },
  {
   "cell_type": "code",
   "execution_count": null,
   "id": "56103509",
   "metadata": {},
   "outputs": [],
   "source": [
    "#3\n",
    "#plotting count plots for all the categorical columns\n",
    "sns.set_theme(style='darkgrid',palette='pastel')\n",
    "plt.figure(figsize=(15,20))\n",
    "\n",
    "plt.subplot(331)\n",
    "sns.countplot(x=main_DF[\"intercom\"],order= main_DF['intercom'].value_counts().index[::-1])\n",
    "plt.xlabel='intercom'\n",
    "plt.ylabel='count'\n",
    "plt.title='rent according to intercom'\n",
    "\n",
    "plt.subplot(332)\n",
    "sns.countplot(x=main_DF[\"cpa\"],order= main_DF['cpa'].value_counts().index[::-1])\n",
    "plt.xlabel='cpa'\n",
    "plt.ylabel='count'\n",
    "plt.title='rent according to cpa'\n",
    "\n",
    "plt.subplot(333)\n",
    "sns.countplot(x=main_DF[\"fs\"],order= main_DF['fs'].value_counts().index[::-1])\n",
    "plt.xlabel='fs'\n",
    "plt.ylabel='count'\n",
    "plt.title='rent according to fs'\n",
    "\n",
    "plt.subplot(334)\n",
    "sns.countplot(x=main_DF[\"security\"],order= main_DF['security'].value_counts().index[::-1])\n",
    "plt.xlabel='security'\n",
    "plt.ylabel='count'\n",
    "plt.title='rent according to security'\n",
    "\n",
    "plt.subplot(335)\n",
    "sns.countplot(x=main_DF[\"sc\"],order= main_DF['sc'].value_counts().index[::-1])\n",
    "plt.xlabel='sc'\n",
    "plt.ylabel='count'\n",
    "plt.title='rent according to sc'\n",
    "\n",
    "plt.tight_layout()\n"
   ]
  },
  {
   "cell_type": "code",
   "execution_count": null,
   "id": "93eeb9ff",
   "metadata": {},
   "outputs": [],
   "source": [
    "#4\n",
    "#plotting count plots for all the categorical columns\n",
    "sns.set_theme(style='darkgrid',palette='pastel')\n",
    "plt.figure(figsize=(5,5))\n",
    "\n",
    "plt.subplot(121)\n",
    "sns.countplot(x=main_DF[\"gp\"],order= main_DF['gp'].value_counts().index[::-1])\n",
    "plt.xlabel='gp'\n",
    "plt.ylabel='count'\n",
    "plt.title='rent according to gp'\n",
    "\n",
    "plt.subplot(122)\n",
    "sns.countplot(x=main_DF[\"park\"],order= main_DF['park'].value_counts().index[::-1])\n",
    "plt.xlabel='park'\n",
    "plt.ylabel='count'\n",
    "plt.title='rent according to park'\n",
    "\n",
    "\n",
    "\n"
   ]
  },
  {
   "cell_type": "code",
   "execution_count": null,
   "id": "84d69357",
   "metadata": {},
   "outputs": [],
   "source": [
    "\n",
    "#plotting count plots for all the categorical columns\n",
    "sns.set_theme(style='darkgrid',palette='pastel')\n",
    "plt.figure(figsize=(25,25))\n",
    "\n",
    "plt.subplot(491)\n",
    "sns.countplot(x=main_DF[\"rwh\"],order= main_DF['rwh'].value_counts().index[::-1])\n",
    "plt.xlabel='rwh'\n",
    "plt.ylabel='count'\n",
    "plt.title='rent according to rwh'\n",
    "\n",
    "plt.subplot(462)\n",
    "sns.countplot(x=main_DF[\"hk\"],order= main_DF['hk'].value_counts().index[::-1])\n",
    "plt.xlabel='hk'\n",
    "plt.ylabel='count'\n",
    "plt.title='rent according to hk'\n",
    "\n",
    "plt.subplot(463)\n",
    "sns.countplot(x=main_DF[\"pb\"],order= main_DF['pb'].value_counts().index[::-1])\n",
    "plt.xlabel='pb'\n",
    "plt.ylabel='count'\n",
    "plt.title='rent according to pb'\n",
    "\n",
    "plt.subplot(464)\n",
    "sns.countplot(x=main_DF[\"vp\"],order= main_DF['vp'].value_counts().index[::-1])\n",
    "plt.xlabel='vp'\n",
    "plt.ylabel='count'\n",
    "plt.title='rent according to vp'\n",
    "\n",
    "plt.subplot(465)\n",
    "sns.countplot(x=main_DF[\"rent_year\"],order= main_DF['rent_year'].value_counts().index[::-1])\n",
    "plt.xlabel='rent_year'\n",
    "plt.ylabel='count'\n",
    "plt.title='rent according to rent_year'\n",
    "\n"
   ]
  },
  {
   "cell_type": "code",
   "execution_count": null,
   "id": "6bb7dc5a",
   "metadata": {},
   "outputs": [],
   "source": [
    "main_DF.columns"
   ]
  },
  {
   "cell_type": "raw",
   "id": "bf0d0745",
   "metadata": {},
   "source": [
    "OBSERVATIONS:\n",
    "    \n",
    "    \n",
    "    1.  According to column 'type', the number of house rented were 'bhk2'\n",
    "    2.  According to column 'locality', the number of house rented were 'whitefield'\n",
    "    3.  According to column 'lease_type', the number of house rented were 'family'&'anyone'\n",
    "    4.  According to column 'gym', the number of house rented were '0' or 'False'\n",
    "    5.  According to column 'lift', the number of house rented were '0' or 'False'\n",
    "    6.  According to column 'swimming_pool', the number of house rented were '0' or 'False'\n",
    "    7.  According to column 'negotiable', the number of house rented were '1' or 'True'\n",
    "    8.  According to column 'furnishing', the number of house rented were 'semi-furnished'\n",
    "    9.  According to column 'parking', the number of house rented were 'both'\n",
    "    10. According to column 'bathroom', the number of house rented were '2'\n",
    "    11. According to column 'facing', the number of house rented were 'E'\n",
    "    12. According to column 'cup_board', the number of house rented were '2'\n",
    "    13. According to column 'floor', the number of house rented were '0','1','2'\n",
    "    14. According to column 'total_floor', the number of house rented were '2','3','4'\n",
    "    15. According to column 'water_supply', the number of house rented were 'corp_bore'\n",
    "    16. According to column 'building_type', the number of house rented were 'IF'\n",
    "    17. According to column 'internet', the number of house rented were 'True'\n",
    "    18. According to column 'ac', the number of house rented were 'False'\n",
    "    19. According to column 'club', the number of house rented were 'False'\n",
    "    20. According to column 'intercom', the number of house rented were 'False'\n",
    "    21. According to column 'cpa', the number of house rented were 'False'\n",
    "    22. According to column 'fs', the number of house rented were 'False'\n",
    "    23. According to column 'security', the number of house rented were 'False'\n",
    "    24. According to column 'sc', the number of house rented were 'False'\n",
    "    25. According to column 'gp', the number of house rented were 'False'\n",
    "    26. According to column 'rwh', the number of house rented were 'False'\n",
    "    27. According to column 'stp', the number of house rented were 'False'\n",
    "    28. According to column 'hk', the number of house rented were 'False'\n",
    "    29. According to column 'pb', the number of house rented were 'False'\n",
    "    30. According to column 'vp', the number of house rented were 'False'\n",
    "    31. According to column 'rent_year', the number of house rented were '2018'\n",
    "    32. According to column 'park', the houses rented were equal even its available or not\n"
   ]
  },
  {
   "cell_type": "code",
   "execution_count": null,
   "id": "9e33c382",
   "metadata": {},
   "outputs": [],
   "source": [
    "#Plotting Barplot for categorical columns vs target (rent)"
   ]
  },
  {
   "cell_type": "code",
   "execution_count": null,
   "id": "bf35c995",
   "metadata": {},
   "outputs": [],
   "source": [
    "#orders for all the barplots in ascending order\n",
    "type_order = main_DF.groupby('type')['rent'].mean().reset_index().sort_values('rent')['type']\n",
    "locality_order = main_DF.groupby('locality')['rent'].mean().reset_index().sort_values('rent')['locality']\n",
    "lease_type_order = main_DF.groupby('lease_type')['rent'].mean().reset_index().sort_values('rent')['lease_type']\n",
    "gym_order = main_DF.groupby('gym')['rent'].mean().reset_index().sort_values('rent')['gym']\n",
    "lift_order = main_DF.groupby('lift')['rent'].mean().reset_index().sort_values('rent')['lift']\n",
    "swimming_pool_order = main_DF.groupby('swimming_pool')['rent'].mean().reset_index().sort_values('rent')['swimming_pool']\n",
    "negotiable_order = main_DF.groupby('negotiable')['rent'].mean().reset_index().sort_values('rent')['negotiable']\n",
    "furnishing_order = main_DF.groupby('furnishing')['rent'].mean().reset_index().sort_values('rent')['furnishing']\n",
    "parking_order = main_DF.groupby('parking')['rent'].mean().reset_index().sort_values('rent')['parking']\n",
    "bathroom_order = main_DF.groupby('bathroom')['rent'].mean().reset_index().sort_values('rent')['bathroom']\n",
    "facing_order = main_DF.groupby('facing')['rent'].mean().reset_index().sort_values('rent')['facing']\n",
    "cup_board_order = main_DF.groupby('cup_board')['rent'].mean().reset_index().sort_values('rent')['cup_board']\n",
    "floor_order = main_DF.groupby('floor')['rent'].mean().reset_index().sort_values('rent')['floor']\n",
    "total_floor_order = main_DF.groupby('total_floor')['rent'].mean().reset_index().sort_values('rent')['total_floor']\n",
    "water_supply_order = main_DF.groupby('water_supply')['rent'].mean().reset_index().sort_values('rent')['water_supply']\n",
    "building_type_order = main_DF.groupby('building_type')['rent'].mean().reset_index().sort_values('rent')['building_type']\n",
    "internet_order = main_DF.groupby('internet')['rent'].mean().reset_index().sort_values('rent')['internet']\n",
    "ac_order = main_DF.groupby('ac')['rent'].mean().reset_index().sort_values('rent')['ac']\n",
    "club_order = main_DF.groupby('club')['rent'].mean().reset_index().sort_values('rent')['club']\n",
    "intercom_order = main_DF.groupby('intercom')['rent'].mean().reset_index().sort_values('rent')['intercom']\n",
    "cpa_order = main_DF.groupby('cpa')['rent'].mean().reset_index().sort_values('rent')['cpa']\n",
    "fs_order = main_DF.groupby('fs')['rent'].mean().reset_index().sort_values('rent')['fs']\n",
    "security_order = main_DF.groupby('security')['rent'].mean().reset_index().sort_values('rent')['security']\n",
    "sc_order = main_DF.groupby('sc')['rent'].mean().reset_index().sort_values('rent')['sc']\n",
    "gp_order = main_DF.groupby('gp')['rent'].mean().reset_index().sort_values('rent')['gp']\n",
    "park_order = main_DF.groupby('park')['rent'].mean().reset_index().sort_values('rent')['park']\n",
    "rwh_order = main_DF.groupby('rwh')['rent'].mean().reset_index().sort_values('rent')['rwh']\n",
    "stp_order = main_DF.groupby('stp')['rent'].mean().reset_index().sort_values('rent')['stp']\n",
    "hk_order = main_DF.groupby('hk')['rent'].mean().reset_index().sort_values('rent')['hk']\n",
    "pb_order = main_DF.groupby('pb')['rent'].mean().reset_index().sort_values('rent')['pb']\n",
    "vp_order = main_DF.groupby('vp')['rent'].mean().reset_index().sort_values('rent')['vp']\n",
    "rent_year_order = main_DF.groupby('rent_year')['rent'].mean().reset_index().sort_values('rent')['rent_year']"
   ]
  },
  {
   "cell_type": "code",
   "execution_count": null,
   "id": "f7a54778",
   "metadata": {},
   "outputs": [],
   "source": [
    "main_DF.columns"
   ]
  },
  {
   "cell_type": "code",
   "execution_count": null,
   "id": "8b4fc6ae",
   "metadata": {},
   "outputs": [],
   "source": [
    "#For categoricals\n",
    "sns.set_theme(style='whitegrid',palette='pastel')\n",
    "plt.figure(figsize=(15,15))\n",
    "\n",
    "plt.subplot(431)\n",
    "sns.barplot(data=main_DF,x='type',y='rent', order = type_order)\n",
    "plt.show()\n",
    "\n",
    "plt.figure(figsize=(20,25))\n",
    "plt.subplot(432)\n",
    "sns.barplot(data=main_DF,x='locality',y='rent', order = locality_order)\n",
    "plt.show()\n",
    "\n",
    "plt.figure(figsize=(15,15))\n",
    "plt.subplot(433)\n",
    "sns.barplot(data=main_DF,x='lease_type',y='rent', order = lease_type_order)\n",
    "plt.show()\n",
    "\n",
    "plt.figure(figsize=(15,15))\n",
    "plt.subplot(434)\n",
    "sns.barplot(data=main_DF,x='gym',y='rent', order = gym_order)\n",
    "plt.show()\n",
    "\n",
    "plt.figure(figsize=(15,15))\n",
    "plt.subplot(435)\n",
    "sns.barplot(data=main_DF,x='lift',y='rent', order = lift_order)\n",
    "plt.show()\n",
    "\n",
    "plt.figure(figsize=(15,15))\n",
    "plt.subplot(436)\n",
    "sns.barplot(data=main_DF,x='swimming_pool',y='rent', order = swimming_pool_order)\n",
    "plt.show()\n",
    "\n",
    "plt.figure(figsize=(15,15))\n",
    "plt.subplot(437)\n",
    "sns.barplot(data=main_DF,x='negotiable',y='rent', order = negotiable_order)\n",
    "plt.show()\n",
    "\n",
    "plt.figure(figsize=(20,15))\n",
    "plt.subplot(438)\n",
    "sns.barplot(data=main_DF,x='furnishing',y='rent', order = furnishing_order)\n",
    "plt.show()\n",
    "\n",
    "plt.figure(figsize=(17,15))\n",
    "plt.subplot(439)\n",
    "sns.barplot(data=main_DF,x='parking',y='rent', order = parking_order)\n",
    "plt.show()\n",
    "\n",
    "plt.figure(figsize=(15,15))\n",
    "plt.subplot(442)\n",
    "sns.barplot(data=main_DF,x='facing',y='rent', order = facing_order)\n",
    "plt.show()\n",
    "\n",
    "plt.figure(figsize=(22,15))\n",
    "plt.subplot(446)\n",
    "sns.barplot(data=main_DF,x='water_supply',y='rent', order = water_supply_order)\n",
    "plt.show()\n",
    "\n",
    "plt.figure(figsize=(15,15))\n",
    "plt.subplot(447)\n",
    "sns.barplot(data=main_DF,x='building_type',y='rent', order = building_type_order)\n",
    "plt.show()\n",
    "\n",
    "plt.figure(figsize=(15,15))\n",
    "plt.subplot(448)\n",
    "sns.barplot(data=main_DF,x='internet',y='rent', order = internet_order)\n",
    "plt.show()\n",
    "\n",
    "plt.figure(figsize=(15,15))\n",
    "plt.subplot(449)\n",
    "sns.barplot(data=main_DF,x='ac',y='rent', order = ac_order)\n",
    "plt.show()\n",
    "\n",
    "plt.figure(figsize=(15,15))\n",
    "plt.subplot(451)\n",
    "sns.barplot(data=main_DF,x='club',y='rent', order = club_order)\n",
    "plt.show()\n",
    "\n",
    "plt.figure(figsize=(15,15))\n",
    "plt.subplot(452)\n",
    "sns.barplot(data=main_DF,x='intercom',y='rent', order = intercom_order)\n",
    "plt.show()\n",
    "\n",
    "plt.figure(figsize=(15,15))\n",
    "plt.subplot(453)\n",
    "sns.barplot(data=main_DF,x='cpa',y='rent', order = cpa_order)\n",
    "plt.show()\n",
    "\n",
    "plt.figure(figsize=(15,15))\n",
    "plt.subplot(454)\n",
    "sns.barplot(data=main_DF,x='fs',y='rent', order = fs_order)\n",
    "plt.show()\n",
    "\n",
    "plt.figure(figsize=(15,15))\n",
    "plt.subplot(455)\n",
    "sns.barplot(data=main_DF,x='security',y='rent', order = security_order)\n",
    "plt.show()\n",
    "\n",
    "plt.figure(figsize=(15,15))\n",
    "plt.subplot(456)\n",
    "sns.barplot(data=main_DF,x='sc',y='rent', order = sc_order)\n",
    "plt.show()\n",
    "\n",
    "plt.figure(figsize=(15,15))\n",
    "plt.subplot(457)\n",
    "sns.barplot(data=main_DF,x='gp',y='rent', order = gp_order)\n",
    "plt.show()\n",
    "\n",
    "plt.figure(figsize=(15,15))\n",
    "plt.subplot(458)\n",
    "sns.barplot(data=main_DF,x='park',y='rent', order = park_order)\n",
    "plt.show()\n",
    "\n",
    "plt.figure(figsize=(15,15))\n",
    "plt.subplot(459)\n",
    "sns.barplot(data=main_DF,x='rwh',y='rent', order = rwh_order)\n",
    "plt.show()\n",
    "\n",
    "plt.figure(figsize=(15,15))\n",
    "plt.subplot(461)\n",
    "sns.barplot(data=main_DF,x='stp',y='rent', order = stp_order)\n",
    "plt.show()\n",
    "\n",
    "plt.figure(figsize=(15,15))\n",
    "plt.subplot(462)\n",
    "sns.barplot(data=main_DF,x='hk',y='rent', order = hk_order)\n",
    "plt.show()\n",
    "\n",
    "plt.figure(figsize=(15,15))\n",
    "plt.subplot(463)\n",
    "sns.barplot(data=main_DF,x='pb',y='rent', order = pb_order)\n",
    "plt.show()\n",
    "\n",
    "plt.figure(figsize=(15,15))\n",
    "plt.subplot(464)\n",
    "sns.barplot(data=main_DF,x='vp',y='rent', order = vp_order)\n",
    "plt.show()\n",
    "\n",
    "plt.figure(figsize=(15,15))\n",
    "plt.subplot(465)\n",
    "sns.barplot(data=main_DF,x='rent_year',y='rent', order = rent_year_order)\n",
    "plt.show()\n",
    "\n",
    "plt.tight_layout()\n",
    "\n"
   ]
  },
  {
   "cell_type": "code",
   "execution_count": null,
   "id": "969b73be",
   "metadata": {
    "scrolled": true
   },
   "outputs": [],
   "source": [
    "#For numericals\n",
    "sns.set_theme(style='whitegrid',palette='pastel')\n",
    "plt.figure(figsize=(15,15))\n",
    "plt.subplot(331)\n",
    "sns.lineplot(data=main_DF,x='bathroom',y='rent')\n",
    "plt.show()\n",
    "\n",
    "plt.figure(figsize=(15,15))\n",
    "plt.subplot(332)\n",
    "sns.lineplot(data=main_DF,x='cup_board',y='rent')\n",
    "plt.show()\n",
    "\n",
    "plt.figure(figsize=(15,15))\n",
    "plt.subplot(333)\n",
    "sns.lineplot(data=main_DF,x='floor',y='rent')\n",
    "plt.show()\n",
    "\n",
    "plt.figure(figsize=(15,15))\n",
    "plt.subplot(334)\n",
    "sns.lineplot(data=main_DF,x='total_floor',y='rent')\n",
    "plt.show()\n",
    "\n",
    "plt.tight_layout()\n",
    "\n"
   ]
  },
  {
   "cell_type": "raw",
   "id": "4fc27830",
   "metadata": {},
   "source": [
    "Intrepretations:\n",
    "    we have to remove the columns which do not had any  relationship with targets\n",
    "    #sc #internet #rent_year"
   ]
  },
  {
   "cell_type": "markdown",
   "id": "2b521a96",
   "metadata": {},
   "source": [
    "# Remove unwanted columns"
   ]
  },
  {
   "cell_type": "code",
   "execution_count": null,
   "id": "0335ebf6",
   "metadata": {},
   "outputs": [],
   "source": [
    "del main_DF['sc']\n",
    "del main_DF['internet']\n",
    "del main_DF['rent_year']"
   ]
  },
  {
   "cell_type": "code",
   "execution_count": null,
   "id": "2b29f908",
   "metadata": {},
   "outputs": [],
   "source": [
    "main_DF"
   ]
  },
  {
   "cell_type": "markdown",
   "id": "f8cb2cf4",
   "metadata": {},
   "source": [
    "# Preprocessing and Encoding variables"
   ]
  },
  {
   "cell_type": "code",
   "execution_count": null,
   "id": "4b773bcc",
   "metadata": {
    "scrolled": true
   },
   "outputs": [],
   "source": [
    "# import pandas as pd\n",
    "\n",
    "# # Assuming you have a DataFrame called main_DF with a 'locality' column\n",
    "\n",
    "# # Step 1: Calculate the frequency of each category\n",
    "locality_counts = main_DF['locality'].value_counts()\n",
    "\n",
    "# # # Step 2: Sort the categories by their frequency in ascending order\n",
    "sorted_localities = locality_counts.sort_index()\n",
    "\n",
    "# # Step 3: Create a mapping dictionary with the sorted categories and frequencies\n",
    "locality_encoding = dict(zip(sorted_localities.index, range(1, len(sorted_localities) + 1)))\n",
    "\n",
    "# # Step 4: Encode the 'locality' column using the sorted frequencies\n",
    "main_DF['locality'] = main_DF['locality'].map(locality_encoding)\n"
   ]
  },
  {
   "cell_type": "code",
   "execution_count": null,
   "id": "8f89901d",
   "metadata": {},
   "outputs": [],
   "source": [
    "main_DF"
   ]
  },
  {
   "cell_type": "code",
   "execution_count": null,
   "id": "ae3d610b",
   "metadata": {},
   "outputs": [],
   "source": [
    "main_DF.furnishing.unique()"
   ]
  },
  {
   "cell_type": "code",
   "execution_count": null,
   "id": "f52cc109",
   "metadata": {},
   "outputs": [],
   "source": [
    "main_DF['type'] = main_DF['type'].map({'rk1':0,'bhk1':0,'bhk2':1,'bhk3':2,'bhk4':3})\n",
    "main_DF['furnishing'] = main_DF['furnishing'].map({'NOT_FURNISHED':0,'SEMI_FURNISHED':1,'FULLY_FURNISHED':2})\n",
    "main_DF['parking'] = main_DF['parking'].map({'TWO_WHEELER':0,'NONE':1,'FOUR_WHEELER':7,'BOTH':8})\n",
    "main_DF['facing'] = main_DF['facing'].map({'N':0,'S':1,'E':2,'W':4,'NE':6,'NW':6,'SE':6,'SW':10})\n",
    "main_DF['water_supply'] = main_DF['water_supply'].map({'CORPORATION':0,'CORP_BORE':1,'BOREWELL':2})\n",
    "main_DF = pd.get_dummies(main_DF, columns = ['building_type'])"
   ]
  },
  {
   "cell_type": "code",
   "execution_count": null,
   "id": "39631ccf",
   "metadata": {},
   "outputs": [],
   "source": [
    "main_DF['ac'] = main_DF['ac'].map({False:0,True:1})\n",
    "main_DF['club'] = main_DF['club'].map({False:0,True:1})\n",
    "main_DF['intercom'] = main_DF['intercom'].map({False:0,True:1})\n",
    "main_DF['cpa'] = main_DF['cpa'].map({False:0,True:1})\n",
    "main_DF['fs'] = main_DF['fs'].map({False:0,True:1})\n",
    "main_DF['security'] = main_DF['security'].map({False:0,True:1})\n",
    "main_DF['gp'] = main_DF['gp'].map({False:0,True:1})\n",
    "main_DF['park'] = main_DF['park'].map({False:0,True:1})\n",
    "main_DF['rwh'] = main_DF['rwh'].map({False:0,True:1})\n",
    "main_DF['stp'] = main_DF['stp'].map({False:0,True:1})\n",
    "main_DF['hk'] = main_DF['hk'].map({False:0,True:1})\n",
    "main_DF['pb'] = main_DF['pb'].map({False:0,True:1})\n",
    "main_DF['vp'] = main_DF['vp'].map({False:0,True:1})"
   ]
  },
  {
   "cell_type": "code",
   "execution_count": null,
   "id": "e52e9e0e",
   "metadata": {},
   "outputs": [],
   "source": [
    "main_DF = pd.get_dummies(main_DF, columns = ['lease_type'])"
   ]
  },
  {
   "cell_type": "code",
   "execution_count": null,
   "id": "3c382e94",
   "metadata": {},
   "outputs": [],
   "source": [
    "main_DF.head(5)"
   ]
  },
  {
   "cell_type": "markdown",
   "id": "a5288904",
   "metadata": {},
   "source": [
    "# Splitting Data into Input and Output"
   ]
  },
  {
   "cell_type": "code",
   "execution_count": null,
   "id": "2308cfbb",
   "metadata": {},
   "outputs": [],
   "source": [
    "X = main_DF.drop('rent',axis=1)\n",
    "y = main_DF['rent']"
   ]
  },
  {
   "cell_type": "code",
   "execution_count": null,
   "id": "14227726",
   "metadata": {},
   "outputs": [],
   "source": [
    "X"
   ]
  },
  {
   "cell_type": "code",
   "execution_count": null,
   "id": "1e16ef33",
   "metadata": {},
   "outputs": [],
   "source": [
    "y"
   ]
  },
  {
   "cell_type": "code",
   "execution_count": null,
   "id": "6f18715a",
   "metadata": {},
   "outputs": [],
   "source": [
    "#split the data into train and test in 8:2 ratio\n",
    "\n",
    "X_train,X_test,y_train,y_test = train_test_split(X,y,test_size=0.2,random_state=50)"
   ]
  },
  {
   "cell_type": "code",
   "execution_count": null,
   "id": "63717d99",
   "metadata": {},
   "outputs": [],
   "source": [
    "print(X_train.shape,X_test.shape,y_train.shape,y_test.shape)"
   ]
  },
  {
   "cell_type": "code",
   "execution_count": null,
   "id": "9b42f5d6",
   "metadata": {},
   "outputs": [],
   "source": [
    "X_train"
   ]
  },
  {
   "cell_type": "markdown",
   "id": "21b0d7f4",
   "metadata": {},
   "source": [
    "# Machine Learning Models"
   ]
  },
  {
   "cell_type": "code",
   "execution_count": null,
   "id": "59859e9b",
   "metadata": {},
   "outputs": [],
   "source": [
    "from sklearn.linear_model import LinearRegression\n",
    "from sklearn.neighbors import KNeighborsRegressor\n",
    "from sklearn.tree import DecisionTreeRegressor\n",
    "from sklearn.ensemble import RandomForestRegressor\n",
    "import xgboost as xgb"
   ]
  },
  {
   "cell_type": "markdown",
   "id": "db569e83",
   "metadata": {},
   "source": [
    "# Linear Regression"
   ]
  },
  {
   "cell_type": "code",
   "execution_count": null,
   "id": "569477b1",
   "metadata": {},
   "outputs": [],
   "source": [
    "from sklearn.linear_model import LinearRegression #import\n",
    "linear_model = LinearRegression(fit_intercept=True) #Initialize\n",
    "linear_model.fit(X_train,y_train) #fit\n",
    "print(linear_model.predict(X_test)) #predict\n",
    "print(y_test)"
   ]
  },
  {
   "cell_type": "code",
   "execution_count": null,
   "id": "37903b50",
   "metadata": {},
   "outputs": [],
   "source": [
    "linear_model.score(X_test,y_test)"
   ]
  },
  {
   "cell_type": "code",
   "execution_count": null,
   "id": "d74cc321",
   "metadata": {},
   "outputs": [],
   "source": [
    "from sklearn.model_selection import cross_val_score #import\n",
    "cross_val_linear_model = cross_val_score(linear_model,X_train,y_train,cv=10).mean()\n",
    "cross_val_linear_model"
   ]
  },
  {
   "cell_type": "markdown",
   "id": "7a399a0a",
   "metadata": {},
   "source": [
    "# K N Neighbour Regression"
   ]
  },
  {
   "cell_type": "code",
   "execution_count": null,
   "id": "0c3f89b9",
   "metadata": {},
   "outputs": [],
   "source": [
    "from sklearn.preprocessing import StandardScaler\n",
    "scaler = StandardScaler()\n",
    "scaler.fit(X_train)\n",
    "X_train_scaled = scaler.transform(X_train)\n",
    "X_test_scaled = scaler.transform(X_test)\n",
    "\n",
    "knn_values=np.arange(1,50)\n",
    "cross_val_knn=[]\n",
    "for k in knn_values:\n",
    "    knn_regressor=KNeighborsRegressor(n_neighbors=k)\n",
    "    knn_regressor.fit(X_train_scaled,y_train)\n",
    "    print(\"K value : \", k, \" train score : \", knn_regressor.score(X_train_scaled,y_train)  ,\"cross_val_score : \", cross_val_score(knn_regressor,X_train_scaled,y_train,cv = 10).mean())\n",
    "    cross_val_knn.append(cross_val_score(knn_regressor,X_train_scaled,y_train,cv = 10).mean())"
   ]
  },
  {
   "cell_type": "code",
   "execution_count": null,
   "id": "ff40fabf",
   "metadata": {},
   "outputs": [],
   "source": [
    "cross_val_knn_regressor=max(cross_val_knn)"
   ]
  },
  {
   "cell_type": "code",
   "execution_count": null,
   "id": "1142692a",
   "metadata": {},
   "outputs": [],
   "source": [
    "print(\"The best K-Value is 14 and Cross_val_score is\",cross_val_knn_regressor )"
   ]
  },
  {
   "cell_type": "markdown",
   "id": "18702867",
   "metadata": {},
   "source": [
    "# Implementing K Nearest Neighbor Regression*"
   ]
  },
  {
   "cell_type": "code",
   "execution_count": null,
   "id": "492a4742",
   "metadata": {},
   "outputs": [],
   "source": [
    "knn_regressor=KNeighborsRegressor(n_neighbors=5)\n",
    "knn_regressor.fit(X_train_scaled,y_train)"
   ]
  },
  {
   "cell_type": "code",
   "execution_count": null,
   "id": "ef07cd44",
   "metadata": {},
   "outputs": [],
   "source": [
    "cross_val_knn_regressor=cross_val_score(knn_regressor,X_train_scaled,y_train,cv=15).mean()\n",
    "cross_val_knn_regressor"
   ]
  },
  {
   "cell_type": "markdown",
   "id": "660f1e86",
   "metadata": {},
   "source": [
    "# Decision Tree Regression"
   ]
  },
  {
   "cell_type": "code",
   "execution_count": null,
   "id": "413cdeb9",
   "metadata": {},
   "outputs": [],
   "source": [
    "from sklearn.tree import DecisionTreeRegressor\n",
    "\n",
    "max_depth=np.arange(1,20)\n",
    "cross_val_dt=[]\n",
    "for d in max_depth:\n",
    "    dt_regressor= DecisionTreeRegressor(max_depth=d, random_state=0)\n",
    "    dt_regressor.fit(X_train,y_train)\n",
    "    print(\"Depth : \", d, \" train Score  : \", dt_regressor.score(X_train,y_train), \"cross_val_score : \", cross_val_score(dt_regressor,X_train,y_train,cv = 10).mean())\n",
    "    cross_val_dt.append(cross_val_score(dt_regressor,X_train,y_train,cv = 10).mean())"
   ]
  },
  {
   "cell_type": "code",
   "execution_count": null,
   "id": "7fee3ddc",
   "metadata": {},
   "outputs": [],
   "source": [
    "cross_val_dt_regressor=max(cross_val_dt)"
   ]
  },
  {
   "cell_type": "code",
   "execution_count": null,
   "id": "19be8ac6",
   "metadata": {},
   "outputs": [],
   "source": [
    "print(\"The best depth is 7 and Cross_val_score is:\",cross_val_dt_regressor)"
   ]
  },
  {
   "cell_type": "markdown",
   "id": "37653465",
   "metadata": {},
   "source": [
    "# Implementing Decision Tree Regression"
   ]
  },
  {
   "cell_type": "code",
   "execution_count": null,
   "id": "a780091d",
   "metadata": {},
   "outputs": [],
   "source": [
    "dt_regressor=DecisionTreeRegressor(max_depth=13, random_state=0)\n",
    "dt_regressor.fit(X_train,y_train)"
   ]
  },
  {
   "cell_type": "code",
   "execution_count": null,
   "id": "d8f7a8ec",
   "metadata": {},
   "outputs": [],
   "source": [
    "cross_val_dt_regressor=cross_val_score(dt_regressor,X_train,y_train,cv=10).mean()\n",
    "cross_val_dt_regressor"
   ]
  },
  {
   "cell_type": "code",
   "execution_count": null,
   "id": "a7fef8b8",
   "metadata": {},
   "outputs": [],
   "source": [
    "ftImp = list(zip(dt_regressor.feature_importances_, df.columns[:-1]))\n",
    "imp = pd.DataFrame(ftImp, columns = [\"Importance\",\"Feature\"])\n",
    "imp.sort_values(\"Importance\",ascending = False,inplace=True)\n",
    "imp"
   ]
  },
  {
   "cell_type": "markdown",
   "id": "44cf3634",
   "metadata": {},
   "source": [
    "# Random Forest Regression"
   ]
  },
  {
   "cell_type": "code",
   "execution_count": null,
   "id": "2cc92a37",
   "metadata": {},
   "outputs": [],
   "source": [
    "from sklearn.ensemble import RandomForestRegressor\n",
    "\n",
    "max_depth=np.array([2,4,8,10,11,12,13,15,18,20])\n",
    "cross_val_rf=[]\n",
    "for d in max_depth:\n",
    "    rf_regressor=RandomForestRegressor(max_depth=d, random_state=0)\n",
    "    rf_regressor.fit(X_train,y_train)\n",
    "    print(\"Depth : \", d, \"cross_val_score : \", cross_val_score(rf_regressor,X_train,y_train,cv = 15).mean())\n",
    "    cross_val_rf.append(cross_val_score(rf_regressor,X_train,y_train,cv = 15).mean())\n",
    "   "
   ]
  },
  {
   "cell_type": "code",
   "execution_count": null,
   "id": "736509eb",
   "metadata": {},
   "outputs": [],
   "source": [
    "cross_val_rf_regressor=max(cross_val_rf)"
   ]
  },
  {
   "cell_type": "code",
   "execution_count": null,
   "id": "6c444165",
   "metadata": {},
   "outputs": [],
   "source": [
    "print(\"The best depth is 20 and Cross_val_score is:\",cross_val_rf_regressor)"
   ]
  },
  {
   "cell_type": "markdown",
   "id": "6003726d",
   "metadata": {},
   "source": [
    "# Implementing Random Forest Regression"
   ]
  },
  {
   "cell_type": "code",
   "execution_count": null,
   "id": "8d06d6b4",
   "metadata": {},
   "outputs": [],
   "source": [
    "rf_regressor=RandomForestRegressor(max_depth=20, random_state=0)\n",
    "rf_regressor.fit(X_train,y_train)"
   ]
  },
  {
   "cell_type": "code",
   "execution_count": null,
   "id": "6a4cc5e6",
   "metadata": {},
   "outputs": [],
   "source": [
    "cross_val_rf_regressor=cross_val_score(rf_regressor,X_train,y_train,cv=15).mean()\n",
    "cross_val_rf_regressor"
   ]
  },
  {
   "cell_type": "markdown",
   "id": "38d3998c",
   "metadata": {},
   "source": [
    "# Extreme Gradient Boosting Regression"
   ]
  },
  {
   "cell_type": "code",
   "execution_count": null,
   "id": "63446c16",
   "metadata": {},
   "outputs": [],
   "source": [
    "import xgboost as xgb\n",
    "\n",
    "cross_val_xgb=[]\n",
    "for lr in [0.01,0.05,0.08,0.1,0.2,0.25,0.3]:\n",
    "  xgb_regressor= xgb.XGBRegressor(learning_rate = lr,n_estimators=100)\n",
    "  xgb_regressor.fit(X_train,y_train)\n",
    "  print(\"Learning rate : \", lr,\"cross_val_score:\", cross_val_score(xgb_regressor,X_train,y_train,cv = 15).mean())\n",
    "  cross_val_xgb.append(cross_val_score(xgb_regressor,X_train,y_train,cv = 15).mean())"
   ]
  },
  {
   "cell_type": "code",
   "execution_count": null,
   "id": "9ad09f3f",
   "metadata": {},
   "outputs": [],
   "source": [
    "cross_val_xgb_regressor=max(cross_val_xgb)"
   ]
  },
  {
   "cell_type": "code",
   "execution_count": null,
   "id": "82cc00e1",
   "metadata": {},
   "outputs": [],
   "source": [
    "print(\"The best Learning rate is 0.2 and Cross_val_score is:\",cross_val_xgb_regressor)"
   ]
  },
  {
   "cell_type": "markdown",
   "id": "6799decc",
   "metadata": {},
   "source": [
    "# Implementing Extreme Gradient Boosting Regression"
   ]
  },
  {
   "cell_type": "code",
   "execution_count": null,
   "id": "26ed6ddd",
   "metadata": {},
   "outputs": [],
   "source": [
    "xgb_regressor= xgb.XGBRegressor(learning_rate =0.1,n_estimators=100) # initialise the model\n",
    "xgb_regressor.fit(X_train,y_train) #train the model"
   ]
  },
  {
   "cell_type": "code",
   "execution_count": null,
   "id": "c2799989",
   "metadata": {},
   "outputs": [],
   "source": [
    "cross_val_xgb_regressor=cross_val_score(xgb_regressor,X_train,y_train,cv=15).mean()\n",
    "cross_val_xgb_regressor"
   ]
  },
  {
   "cell_type": "markdown",
   "id": "aa32ef90",
   "metadata": {},
   "source": [
    "# Cross-Validation Score for Machine-Learning Models"
   ]
  },
  {
   "cell_type": "code",
   "execution_count": null,
   "id": "b50e6e17",
   "metadata": {},
   "outputs": [],
   "source": [
    "print(\"Cross Validation Score for Linear Regression Model:\",cross_val_linear_model)\n",
    "print(\"Cross Validation Score for K-Nearest Neighbors Regression Model:\",cross_val_knn_regressor)\n",
    "print(\"Cross Validation Score for Decision Tree Regression Model: \",cross_val_dt_regressor)\n",
    "print(\"Cross Validation Score for Random Forest Regression Model: \",cross_val_rf_regressor)\n",
    "print(\"Cross Validation Score for Extreme-Gradient Boosting Regression Model: \",cross_val_xgb_regressor)"
   ]
  },
  {
   "cell_type": "markdown",
   "id": "a4445ecd",
   "metadata": {},
   "source": [
    "# R2 Score for Machine-Learning Models"
   ]
  },
  {
   "cell_type": "code",
   "execution_count": null,
   "id": "82a9066c",
   "metadata": {},
   "outputs": [],
   "source": [
    "from sklearn.metrics import r2_score"
   ]
  },
  {
   "cell_type": "code",
   "execution_count": null,
   "id": "399bd047",
   "metadata": {},
   "outputs": [],
   "source": [
    "y_pred_lr=linear_model.predict(X_test)\n",
    "y_pred_knn=knn_regressor.predict(X_test)\n",
    "y_pred_dt= dt_regressor.predict(X_test)\n",
    "y_pred_rf=rf_regressor.predict(X_test)\n",
    "y_pred_xgb=xgb_regressor.predict(X_test)"
   ]
  },
  {
   "cell_type": "code",
   "execution_count": null,
   "id": "fd385246",
   "metadata": {},
   "outputs": [],
   "source": [
    "R2_score_lr=r2_score(y_test,y_pred_lr)\n",
    "R2_score_knn=r2_score(y_test,y_pred_knn)\n",
    "R2_score_dt=r2_score(y_test,y_pred_dt)\n",
    "R2_score_rf=r2_score(y_test,y_pred_rf)\n",
    "R2_score_xgb=r2_score(y_test,y_pred_xgb)"
   ]
  },
  {
   "cell_type": "code",
   "execution_count": null,
   "id": "229adb61",
   "metadata": {},
   "outputs": [],
   "source": [
    "print(\"R2 Score for Linear Regression Model:\",R2_score_lr)\n",
    "print(\"R2 Score for K-Nearest Neighbors Regression Model:\",R2_score_knn)\n",
    "print(\"R2 Score for Decision Tree Regression Model: \",R2_score_dt)\n",
    "print(\"R2 Score for Random Forest Regression Model: \",R2_score_rf)\n",
    "print(\"R2 Score for Extreme-Gradient Boosting Regression Model: \",R2_score_xgb)"
   ]
  },
  {
   "cell_type": "raw",
   "id": "c44780c9",
   "metadata": {},
   "source": [
    "Observation:\n",
    "    After checked with all the algorithms , we can see that Extrame Gradiant Boosting Regression Model performs better than all other platforms. So we can proceed further conclusions based on Extreme Gradient Boosting Regression model."
   ]
  },
  {
   "cell_type": "code",
   "execution_count": null,
   "id": "feaa7484",
   "metadata": {},
   "outputs": [],
   "source": [
    "xgb_regressor.feature_importances_"
   ]
  },
  {
   "cell_type": "markdown",
   "id": "8b43e010",
   "metadata": {},
   "source": [
    "# Important Features "
   ]
  },
  {
   "cell_type": "code",
   "execution_count": null,
   "id": "ff7e6c9a",
   "metadata": {},
   "outputs": [],
   "source": [
    "sorted_idx = xgb_regressor.feature_importances_.argsort()\n",
    "plt.figure(figsize=(10,8))\n",
    "plt.barh(main_DF.columns[sorted_idx], xgb_regressor.feature_importances_[sorted_idx])\n",
    "# plt.xlabel(\"Random Forest Feature Importance\")\n",
    "# plt.title(\"Feature Importance\")\n",
    "plt.show()"
   ]
  },
  {
   "cell_type": "markdown",
   "id": "a9ca772e",
   "metadata": {},
   "source": [
    "# Suggestions to person looking for Rent:"
   ]
  },
  {
   "cell_type": "markdown",
   "id": "4de34daf",
   "metadata": {},
   "source": [
    "Based on the feature importance given by Best Machine Learning Algorithm(Extreme Gradient Boosting)-Person who's looking for rent a house should Focus on the features of order given below to build homes that fetch more money:\n",
    "\n",
    "1. Property size\n",
    "2. No. of Bathrooms\n",
    "3. Type of the House (bhk3 and bhk4 is a best choice)\n",
    "4. Prefer House keeping contained house\n",
    "5. No. of Floors \n",
    "6. Tenants(Bachelor) has more advantages than others\n",
    "7. Tenants should focus on Locality, Furnishing, and swimming pool.\n",
    "8. Regarding House type, IH(independent house) and AP(Apartmet) should be better\n",
    "9. Rent plays a major roll here\n",
    "10. All other amenities equally affected price and those are Tenant's own wish based on the graph above"
   ]
  },
  {
   "cell_type": "markdown",
   "id": "6ac60230",
   "metadata": {},
   "source": [
    "# Final DataFrame:"
   ]
  },
  {
   "cell_type": "code",
   "execution_count": null,
   "id": "12f3509a",
   "metadata": {},
   "outputs": [],
   "source": [
    "main_DF"
   ]
  },
  {
   "cell_type": "code",
   "execution_count": null,
   "id": "6723a219",
   "metadata": {},
   "outputs": [],
   "source": []
  }
 ],
 "metadata": {
  "kernelspec": {
   "display_name": "Python 3 (ipykernel)",
   "language": "python",
   "name": "python3"
  },
  "language_info": {
   "codemirror_mode": {
    "name": "ipython",
    "version": 3
   },
   "file_extension": ".py",
   "mimetype": "text/x-python",
   "name": "python",
   "nbconvert_exporter": "python",
   "pygments_lexer": "ipython3",
   "version": "3.11.3"
  }
 },
 "nbformat": 4,
 "nbformat_minor": 5
}
